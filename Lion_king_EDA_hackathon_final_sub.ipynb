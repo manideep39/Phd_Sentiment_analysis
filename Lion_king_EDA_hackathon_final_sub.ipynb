{
  "nbformat": 4,
  "nbformat_minor": 0,
  "metadata": {
    "colab": {
      "name": "Lion_king_EDA_hackathon_final_sub",
      "version": "0.3.2",
      "provenance": [],
      "collapsed_sections": []
    },
    "kernelspec": {
      "name": "python3",
      "display_name": "Python 3"
    }
  },
  "cells": [
    {
      "cell_type": "code",
      "metadata": {
        "id": "28VTRGSCBzSr",
        "colab_type": "code",
        "colab": {}
      },
      "source": [
        "# necessary imports\n",
        "\n",
        "import requests\n",
        "import time\n",
        "import pandas as pd\n",
        "import numpy as np\n",
        "import sklearn \n",
        "from matplotlib import pyplot\n",
        "import seaborn"
      ],
      "execution_count": 0,
      "outputs": []
    },
    {
      "cell_type": "markdown",
      "metadata": {
        "id": "l8hSjcp2YM8Q",
        "colab_type": "text"
      },
      "source": [
        "# Task 1: Reading necessary fields"
      ]
    },
    {
      "cell_type": "code",
      "metadata": {
        "id": "iFYZAycZCBEJ",
        "colab_type": "code",
        "colab": {}
      },
      "source": [
        "# configuration\n",
        "\n",
        "headers = {\n",
        "'Referer': 'https://www.rottentomatoes.com/m/the_lion_king_2019/reviews?type=user', \\\n",
        "    'User-Agent': 'Mozilla/5.0 (Windows NT 10.0; Win64; x64) AppleWebKit/537.36 (KHTML, like \\\n",
        "Gecko) Chrome/74.0.3729.108 Safari/537.36', 'X-Requested-With': 'XMLHttpRequest'}\n",
        "\n",
        "url = 'https://www.rottentomatoes.com/napi/movie/9057c2cf-7cab-317f-876f-e50b245ca76e/reviews/user'\n",
        "\n",
        "payload = { 'direction': 'next', 'endCursor': '', 'startCursor': '' }\n"
      ],
      "execution_count": 0,
      "outputs": []
    },
    {
      "cell_type": "code",
      "metadata": {
        "id": "Zea3o8SQPyzq",
        "colab_type": "code",
        "colab": {}
      },
      "source": [
        "# to take out endCursor\n",
        "\n",
        "payload = { 'direction': 'next', 'endCursor': '', 'startCursor': '' }\n",
        "s = requests.Session()\n",
        "r = s.get(url, headers=headers, params=payload) # GET Call \n",
        "data = r.json()"
      ],
      "execution_count": 0,
      "outputs": []
    },
    {
      "cell_type": "code",
      "metadata": {
        "id": "NSdu-4C7-SRK",
        "colab_type": "code",
        "colab": {}
      },
      "source": [
        "# getting the list of data frames in group of 10 reviews\n",
        "\n",
        "ls = []\n",
        "for i in range(300):\n",
        "  payload = { 'direction': 'next', 'endCursor': data['pageInfo']['endCursor'], 'startCursor': '' }\n",
        "  s = requests.Session()\n",
        "  r = s.get(url, headers=headers, params=payload) # GET Call \n",
        "  data = r.json()\n",
        "  a_list = []\n",
        "  b_list = []\n",
        "  c_list = []\n",
        "  d_list = []\n",
        "  e_list = []\n",
        "  for i in list(range(10)):\n",
        "      a = data['reviews'][i]['user']['userId']\n",
        "      b = data['reviews'][i]['displayName'] \n",
        "      c = data['reviews'][i]['review']\n",
        "      d = data['reviews'][i]['rating']\n",
        "      e = data['reviews'][i]['createDate']\n",
        "      a_list.append(a)\n",
        "      b_list.append(b)\n",
        "      c_list.append(c)\n",
        "      d_list.append(d)\n",
        "      e_list.append(e)\n",
        "  df = {'ReviewID':a_list, 'Reviewer-Name':b_list, 'Review':c_list, 'Rating':d_list, 'Date-of-Review':e_list}\n",
        "  df = pd.DataFrame(df)\n",
        "  ls.append(df)\n",
        "  time.sleep(6)\n",
        "  "
      ],
      "execution_count": 0,
      "outputs": []
    },
    {
      "cell_type": "code",
      "metadata": {
        "id": "krhxG6B7ASR6",
        "colab_type": "code",
        "outputId": "673b509e-abc5-49ca-9827-ad316bda09c0",
        "colab": {
          "base_uri": "https://localhost:8080/",
          "height": 374
        }
      },
      "source": [
        "# concating the generated data frames from step above\n",
        "\n",
        "df = pd.concat(ls, ignore_index = True)\n",
        "\n",
        "# checking the shape\n",
        "print('data frame shape\\n{}\\n'.format(df.shape))\n",
        "\n",
        "\n",
        "\n",
        "# checking the head and tail,\n",
        "print('head of data frame\\n{}'.format(df.head()))\n",
        "print('tail of data frame\\n{}'.format(df.tail()))\n"
      ],
      "execution_count": 0,
      "outputs": [
        {
          "output_type": "stream",
          "text": [
            "data frame shape\n",
            "(200, 5)\n",
            "\n",
            "head of data frame\n",
            "                               ReviewID  ...            Date-of-Review\n",
            "0                             978211573  ...  2019-08-25T03:42:41.074Z\n",
            "1  51268651-4F59-4EE1-8548-532704C0720A  ...  2019-08-25T03:22:54.090Z\n",
            "2  763CAB90-6B31-49C4-82C8-6C792099CB0C  ...  2019-08-25T02:36:16.107Z\n",
            "3                             978094062  ...  2019-08-25T02:20:54.555Z\n",
            "4  1202B317-3151-4CBE-98E7-6E394402C153  ...  2019-08-25T02:01:17.569Z\n",
            "\n",
            "[5 rows x 5 columns]\n",
            "tail of data frame\n",
            "                                 ReviewID  ...            Date-of-Review\n",
            "195  8fed057b-99dc-4bce-aadf-15524e5c5f5e  ...  2019-08-22T05:07:52.011Z\n",
            "196  81c86526-04c4-438d-96f0-e7c33e1d2c73  ...  2019-08-22T05:01:02.623Z\n",
            "197  0D8F8858-85BB-458A-912D-12AC47CC64C6  ...  2019-08-22T04:31:50.318Z\n",
            "198  dd0555bc-0744-48f1-934e-b2b7452ee758  ...  2019-08-22T04:29:51.458Z\n",
            "199  cf3e3f18-cc48-4711-b11d-b602dd963155  ...  2019-08-22T04:21:32.347Z\n",
            "\n",
            "[5 rows x 5 columns]\n"
          ],
          "name": "stdout"
        }
      ]
    },
    {
      "cell_type": "markdown",
      "metadata": {
        "id": "o4MpdMzwXGUm",
        "colab_type": "text"
      },
      "source": [
        "Taken csv out and uploaded to google drive and reading from there "
      ]
    },
    {
      "cell_type": "code",
      "metadata": {
        "id": "6YLYN-NdKUEk",
        "colab_type": "code",
        "outputId": "b563a82c-fbc7-4cbd-b858-881e5ae57ce3",
        "colab": {
          "base_uri": "https://localhost:8080/",
          "height": 389
        }
      },
      "source": [
        "from google.colab import drive\n",
        "drive.mount('/content/drive')"
      ],
      "execution_count": 1,
      "outputs": [
        {
          "output_type": "stream",
          "text": [
            "Go to this URL in a browser: https://accounts.google.com/o/oauth2/auth?client_id=947318989803-6bn6qk8qdgf4n4g3pfee6491hc0brc4i.apps.googleusercontent.com&redirect_uri=urn%3Aietf%3Awg%3Aoauth%3A2.0%3Aoob&scope=email%20https%3A%2F%2Fwww.googleapis.com%2Fauth%2Fdocs.test%20https%3A%2F%2Fwww.googleapis.com%2Fauth%2Fdrive%20https%3A%2F%2Fwww.googleapis.com%2Fauth%2Fdrive.photos.readonly%20https%3A%2F%2Fwww.googleapis.com%2Fauth%2Fpeopleapi.readonly&response_type=code\n",
            "\n",
            "Enter your authorization code:\n",
            "··········\n",
            "Mounted at /content/drive\n"
          ],
          "name": "stdout"
        }
      ]
    },
    {
      "cell_type": "code",
      "metadata": {
        "id": "3FlyypU4pCfF",
        "colab_type": "code",
        "colab": {}
      },
      "source": [
        "df = pd.read_csv('/content/drive/My Drive/INSOFE/Text_Mining/phd/filename.csv')"
      ],
      "execution_count": 0,
      "outputs": []
    },
    {
      "cell_type": "code",
      "metadata": {
        "id": "GJjQLVgy_7Jv",
        "colab_type": "code",
        "outputId": "e79c3e76-b838-4f0f-fc6e-e9916c753c45",
        "colab": {
          "base_uri": "https://localhost:8080/",
          "height": 204
        }
      },
      "source": [
        "df.head()"
      ],
      "execution_count": 186,
      "outputs": [
        {
          "output_type": "execute_result",
          "data": {
            "text/html": [
              "<div>\n",
              "<style scoped>\n",
              "    .dataframe tbody tr th:only-of-type {\n",
              "        vertical-align: middle;\n",
              "    }\n",
              "\n",
              "    .dataframe tbody tr th {\n",
              "        vertical-align: top;\n",
              "    }\n",
              "\n",
              "    .dataframe thead th {\n",
              "        text-align: right;\n",
              "    }\n",
              "</style>\n",
              "<table border=\"1\" class=\"dataframe\">\n",
              "  <thead>\n",
              "    <tr style=\"text-align: right;\">\n",
              "      <th></th>\n",
              "      <th>Unnamed: 0</th>\n",
              "      <th>ReviewID</th>\n",
              "      <th>Reviewer-Name</th>\n",
              "      <th>Review</th>\n",
              "      <th>Rating</th>\n",
              "      <th>Date-of-Review</th>\n",
              "    </tr>\n",
              "  </thead>\n",
              "  <tbody>\n",
              "    <tr>\n",
              "      <th>0</th>\n",
              "      <td>0</td>\n",
              "      <td>978203293</td>\n",
              "      <td>Alexander G</td>\n",
              "      <td>Didn't make me feel anything unlike the original.</td>\n",
              "      <td>STAR_3</td>\n",
              "      <td>2019-08-18T04:35:16.243Z</td>\n",
              "    </tr>\n",
              "    <tr>\n",
              "      <th>1</th>\n",
              "      <td>1</td>\n",
              "      <td>8ce21b61-d2b1-453e-ab78-fe0ba06088d5</td>\n",
              "      <td>Lori</td>\n",
              "      <td>Well done! A great way to redo a classic. It f...</td>\n",
              "      <td>STAR_5</td>\n",
              "      <td>2019-08-18T04:10:11.153Z</td>\n",
              "    </tr>\n",
              "    <tr>\n",
              "      <th>2</th>\n",
              "      <td>2</td>\n",
              "      <td>4e4abb87-64d4-4f65-8673-8e0b9b612c1b</td>\n",
              "      <td>Tim stoeckle</td>\n",
              "      <td>Good movie.  Just that the original animated w...</td>\n",
              "      <td>STAR_4</td>\n",
              "      <td>2019-08-18T03:39:22.555Z</td>\n",
              "    </tr>\n",
              "    <tr>\n",
              "      <th>3</th>\n",
              "      <td>3</td>\n",
              "      <td>C211508E-B600-44E0-A289-C43EEDF30831</td>\n",
              "      <td>Sheena</td>\n",
              "      <td>I didn’t like Beyoncé being nala. Bad acting. ...</td>\n",
              "      <td>STAR_3</td>\n",
              "      <td>2019-08-18T03:28:50.700Z</td>\n",
              "    </tr>\n",
              "    <tr>\n",
              "      <th>4</th>\n",
              "      <td>4</td>\n",
              "      <td>9c220502-046b-4b98-a0d1-ad271ed611f8</td>\n",
              "      <td>Marsha C</td>\n",
              "      <td>Such a beautiful story. We've loved the animat...</td>\n",
              "      <td>STAR_5</td>\n",
              "      <td>2019-08-18T03:25:45.583Z</td>\n",
              "    </tr>\n",
              "  </tbody>\n",
              "</table>\n",
              "</div>"
            ],
            "text/plain": [
              "   Unnamed: 0  ...            Date-of-Review\n",
              "0           0  ...  2019-08-18T04:35:16.243Z\n",
              "1           1  ...  2019-08-18T04:10:11.153Z\n",
              "2           2  ...  2019-08-18T03:39:22.555Z\n",
              "3           3  ...  2019-08-18T03:28:50.700Z\n",
              "4           4  ...  2019-08-18T03:25:45.583Z\n",
              "\n",
              "[5 rows x 6 columns]"
            ]
          },
          "metadata": {
            "tags": []
          },
          "execution_count": 186
        }
      ]
    },
    {
      "cell_type": "markdown",
      "metadata": {
        "id": "cmmUVdccZkvQ",
        "colab_type": "text"
      },
      "source": [
        "# Verifying data"
      ]
    },
    {
      "cell_type": "code",
      "metadata": {
        "id": "Ilgfp7Ogj7yV",
        "colab_type": "code",
        "outputId": "9a7f2270-9255-4dcb-a49f-acf9460cd6db",
        "colab": {
          "base_uri": "https://localhost:8080/",
          "height": 68
        }
      },
      "source": [
        "# checking duplicate rows, sanity check\n",
        "\n",
        "print('number of duplicate rows\\n{}\\n'.format(df.duplicated().sum()))"
      ],
      "execution_count": 187,
      "outputs": [
        {
          "output_type": "stream",
          "text": [
            "number of duplicate rows\n",
            "0\n",
            "\n"
          ],
          "name": "stdout"
        }
      ]
    },
    {
      "cell_type": "code",
      "metadata": {
        "id": "qIc9WGWylC3P",
        "colab_type": "code",
        "outputId": "f22e5b75-d01b-4f98-ce77-b69c6a6d4c70",
        "colab": {
          "base_uri": "https://localhost:8080/",
          "height": 204
        }
      },
      "source": [
        "# For sentiment analysis the import things are review and rating \n",
        "\n",
        "df2 = df.loc[:, ['Review', 'Rating']]\n",
        "df2.head()"
      ],
      "execution_count": 188,
      "outputs": [
        {
          "output_type": "execute_result",
          "data": {
            "text/html": [
              "<div>\n",
              "<style scoped>\n",
              "    .dataframe tbody tr th:only-of-type {\n",
              "        vertical-align: middle;\n",
              "    }\n",
              "\n",
              "    .dataframe tbody tr th {\n",
              "        vertical-align: top;\n",
              "    }\n",
              "\n",
              "    .dataframe thead th {\n",
              "        text-align: right;\n",
              "    }\n",
              "</style>\n",
              "<table border=\"1\" class=\"dataframe\">\n",
              "  <thead>\n",
              "    <tr style=\"text-align: right;\">\n",
              "      <th></th>\n",
              "      <th>Review</th>\n",
              "      <th>Rating</th>\n",
              "    </tr>\n",
              "  </thead>\n",
              "  <tbody>\n",
              "    <tr>\n",
              "      <th>0</th>\n",
              "      <td>Didn't make me feel anything unlike the original.</td>\n",
              "      <td>STAR_3</td>\n",
              "    </tr>\n",
              "    <tr>\n",
              "      <th>1</th>\n",
              "      <td>Well done! A great way to redo a classic. It f...</td>\n",
              "      <td>STAR_5</td>\n",
              "    </tr>\n",
              "    <tr>\n",
              "      <th>2</th>\n",
              "      <td>Good movie.  Just that the original animated w...</td>\n",
              "      <td>STAR_4</td>\n",
              "    </tr>\n",
              "    <tr>\n",
              "      <th>3</th>\n",
              "      <td>I didn’t like Beyoncé being nala. Bad acting. ...</td>\n",
              "      <td>STAR_3</td>\n",
              "    </tr>\n",
              "    <tr>\n",
              "      <th>4</th>\n",
              "      <td>Such a beautiful story. We've loved the animat...</td>\n",
              "      <td>STAR_5</td>\n",
              "    </tr>\n",
              "  </tbody>\n",
              "</table>\n",
              "</div>"
            ],
            "text/plain": [
              "                                              Review  Rating\n",
              "0  Didn't make me feel anything unlike the original.  STAR_3\n",
              "1  Well done! A great way to redo a classic. It f...  STAR_5\n",
              "2  Good movie.  Just that the original animated w...  STAR_4\n",
              "3  I didn’t like Beyoncé being nala. Bad acting. ...  STAR_3\n",
              "4  Such a beautiful story. We've loved the animat...  STAR_5"
            ]
          },
          "metadata": {
            "tags": []
          },
          "execution_count": 188
        }
      ]
    },
    {
      "cell_type": "code",
      "metadata": {
        "id": "4uYbFMH8lbWj",
        "colab_type": "code",
        "outputId": "c6fc9cf0-de8f-4e6a-cfd0-f581443ee073",
        "colab": {
          "base_uri": "https://localhost:8080/",
          "height": 187
        }
      },
      "source": [
        "# checking NAs\n",
        "\n",
        "print('Number of NAs\\n{}\\n'.format(df2.isna().sum()))\n",
        "\n",
        "# dtypes of df2 \n",
        "print('dtypes of df2\\n{}\\n'.format(df2.dtypes))\n",
        "  "
      ],
      "execution_count": 189,
      "outputs": [
        {
          "output_type": "stream",
          "text": [
            "Number of NAs\n",
            "Review    0\n",
            "Rating    0\n",
            "dtype: int64\n",
            "\n",
            "dtypes of df2\n",
            "Review    object\n",
            "Rating    object\n",
            "dtype: object\n",
            "\n"
          ],
          "name": "stdout"
        }
      ]
    },
    {
      "cell_type": "code",
      "metadata": {
        "id": "dGYs3pfeUW90",
        "colab_type": "code",
        "outputId": "20cd2a86-7f1c-4b9b-c0d0-03be3aa34943",
        "colab": {
          "base_uri": "https://localhost:8080/",
          "height": 51
        }
      },
      "source": [
        "# checking unique items in Rating to replace with a sentiment values\n",
        "\n",
        "display(df2.Rating.unique())"
      ],
      "execution_count": 190,
      "outputs": [
        {
          "output_type": "display_data",
          "data": {
            "text/plain": [
              "array(['STAR_3', 'STAR_5', 'STAR_4', 'STAR_4_5', 'STAR_0_5', 'STAR_2',\n",
              "       'STAR_2_5', 'STAR_3_5', 'STAR_1_5', 'STAR_1'], dtype=object)"
            ]
          },
          "metadata": {
            "tags": []
          }
        }
      ]
    },
    {
      "cell_type": "markdown",
      "metadata": {
        "id": "O47LDdEfYh6y",
        "colab_type": "text"
      },
      "source": [
        "# Task 2: Labelling the review sentiment based on rating"
      ]
    },
    {
      "cell_type": "code",
      "metadata": {
        "id": "CQfpSzcEOxu5",
        "colab_type": "code",
        "colab": {}
      },
      "source": [
        "# replacing with sentiment values 0 as positive and 1 as negative, any review 3 and above are taking as positive\n",
        "\n",
        "sentiment = df2.replace({'Rating': {'STAR_3': 1, 'STAR_5': 0, 'STAR_4': 0, 'STAR_4_5': 0, 'STAR_3_5': 0,\\\n",
        "                        'STAR_0': 1, 'STAR_0_5': 1, 'STAR_1': 1, 'STAR_1_5': 1, 'STAR_2': 1, 'STAR_2_5': 1}})\n",
        "\n",
        "df2['sentiment'] = sentiment['Rating']\n",
        "\n",
        "# type conversions\n",
        "\n",
        "df2 = df2.astype({'Rating': 'category', 'Review': 'str', 'sentiment': 'int'})\n"
      ],
      "execution_count": 0,
      "outputs": []
    },
    {
      "cell_type": "code",
      "metadata": {
        "id": "jWrWK70bP5TS",
        "colab_type": "code",
        "outputId": "cf04ae76-22d5-4b0c-e371-b53d3888df19",
        "colab": {
          "base_uri": "https://localhost:8080/",
          "height": 204
        }
      },
      "source": [
        "# checking above steps output\n",
        "\n",
        "display(df2.head())"
      ],
      "execution_count": 192,
      "outputs": [
        {
          "output_type": "display_data",
          "data": {
            "text/html": [
              "<div>\n",
              "<style scoped>\n",
              "    .dataframe tbody tr th:only-of-type {\n",
              "        vertical-align: middle;\n",
              "    }\n",
              "\n",
              "    .dataframe tbody tr th {\n",
              "        vertical-align: top;\n",
              "    }\n",
              "\n",
              "    .dataframe thead th {\n",
              "        text-align: right;\n",
              "    }\n",
              "</style>\n",
              "<table border=\"1\" class=\"dataframe\">\n",
              "  <thead>\n",
              "    <tr style=\"text-align: right;\">\n",
              "      <th></th>\n",
              "      <th>Review</th>\n",
              "      <th>Rating</th>\n",
              "      <th>sentiment</th>\n",
              "    </tr>\n",
              "  </thead>\n",
              "  <tbody>\n",
              "    <tr>\n",
              "      <th>0</th>\n",
              "      <td>Didn't make me feel anything unlike the original.</td>\n",
              "      <td>STAR_3</td>\n",
              "      <td>1</td>\n",
              "    </tr>\n",
              "    <tr>\n",
              "      <th>1</th>\n",
              "      <td>Well done! A great way to redo a classic. It f...</td>\n",
              "      <td>STAR_5</td>\n",
              "      <td>0</td>\n",
              "    </tr>\n",
              "    <tr>\n",
              "      <th>2</th>\n",
              "      <td>Good movie.  Just that the original animated w...</td>\n",
              "      <td>STAR_4</td>\n",
              "      <td>0</td>\n",
              "    </tr>\n",
              "    <tr>\n",
              "      <th>3</th>\n",
              "      <td>I didn’t like Beyoncé being nala. Bad acting. ...</td>\n",
              "      <td>STAR_3</td>\n",
              "      <td>1</td>\n",
              "    </tr>\n",
              "    <tr>\n",
              "      <th>4</th>\n",
              "      <td>Such a beautiful story. We've loved the animat...</td>\n",
              "      <td>STAR_5</td>\n",
              "      <td>0</td>\n",
              "    </tr>\n",
              "  </tbody>\n",
              "</table>\n",
              "</div>"
            ],
            "text/plain": [
              "                                              Review  Rating  sentiment\n",
              "0  Didn't make me feel anything unlike the original.  STAR_3          1\n",
              "1  Well done! A great way to redo a classic. It f...  STAR_5          0\n",
              "2  Good movie.  Just that the original animated w...  STAR_4          0\n",
              "3  I didn’t like Beyoncé being nala. Bad acting. ...  STAR_3          1\n",
              "4  Such a beautiful story. We've loved the animat...  STAR_5          0"
            ]
          },
          "metadata": {
            "tags": []
          }
        }
      ]
    },
    {
      "cell_type": "code",
      "metadata": {
        "id": "Mgqmuzst0_bT",
        "colab_type": "code",
        "colab": {}
      },
      "source": [
        "#df2.drop(['Rating'], inplace = True, axis = 1)"
      ],
      "execution_count": 0,
      "outputs": []
    },
    {
      "cell_type": "code",
      "metadata": {
        "id": "bKmLIQOU1I5z",
        "colab_type": "code",
        "colab": {}
      },
      "source": [
        "#df2.head()"
      ],
      "execution_count": 0,
      "outputs": []
    },
    {
      "cell_type": "markdown",
      "metadata": {
        "id": "fx7bn9nfYI2k",
        "colab_type": "text"
      },
      "source": [
        "## Preprocessing"
      ]
    },
    {
      "cell_type": "code",
      "metadata": {
        "id": "-vxeXIUpTtWx",
        "colab_type": "code",
        "outputId": "239e0f53-9a81-42e3-8c43-cbe10b6bc0c2",
        "colab": {
          "base_uri": "https://localhost:8080/",
          "height": 136
        }
      },
      "source": [
        "# necessary imports for the function preprocessing\n",
        "\n",
        "from nltk.tokenize import word_tokenize\n",
        "from nltk.stem import WordNetLemmatizer\n",
        "import re\n",
        "import nltk\n",
        "nltk.download('punkt')\n",
        "import nltk\n",
        "nltk.download('wordnet')\n",
        "from nltk.corpus import stopwords\n",
        "from nltk.stem.porter import PorterStemmer\n",
        "stemmer = PorterStemmer()\n",
        "import nltk\n",
        "nltk.download('stopwords')\n",
        "\n",
        "#stop_words = set(stopwords.words(\"english\")) "
      ],
      "execution_count": 195,
      "outputs": [
        {
          "output_type": "stream",
          "text": [
            "[nltk_data] Downloading package punkt to /root/nltk_data...\n",
            "[nltk_data]   Package punkt is already up-to-date!\n",
            "[nltk_data] Downloading package wordnet to /root/nltk_data...\n",
            "[nltk_data]   Package wordnet is already up-to-date!\n",
            "[nltk_data] Downloading package stopwords to /root/nltk_data...\n",
            "[nltk_data]   Package stopwords is already up-to-date!\n"
          ],
          "name": "stdout"
        },
        {
          "output_type": "execute_result",
          "data": {
            "text/plain": [
              "True"
            ]
          },
          "metadata": {
            "tags": []
          },
          "execution_count": 195
        }
      ]
    },
    {
      "cell_type": "code",
      "metadata": {
        "id": "1oKJxtQXd2GQ",
        "colab_type": "code",
        "colab": {}
      },
      "source": [
        "# self defined stop words for sentiment analysis\n",
        "#stop_words=['in','of','at','the','this','had','and','were',\\\n",
        " #        'for','but','for','wa','who','to','on','it','is','a',\\\n",
        "  #    'my','we','me','that','didnt', 'WA']\n",
        "\n",
        "#stop_words = stopwords.words('english')\n",
        "stop_words=['in','of','at','a','the']\n",
        "# defining lemmatizer\n",
        "wordnet_lemmatizer = WordNetLemmatizer()\n",
        "\n",
        "# Basic preprocessing function\n",
        "def preprocessing(text):\n",
        "    text = text.lower() # to lower\n",
        "    text = re.sub(\"[.;:!\\'?,\\\"()\\[\\]]\", '', text)\n",
        "    text = re.sub(\"(<br\\s*/><br\\s*/>)|(\\-)|(\\/)\", '', text)\n",
        "    text = re.sub(\"[0-9]+\", '', text)\n",
        "    text = re.sub(\"_\", '', text)\n",
        "    text = word_tokenize(text)\n",
        "    text = [w for w in text if not w in stop_words] # removing self defined stopwords\n",
        "    text = [word for word in text if len(word) > 1] # removing single character tokens\n",
        "    #text = [stemmer.stem(word) for word in text]\n",
        "    text = [wordnet_lemmatizer.lemmatize(word) for word in text]# doing lemmatizer\n",
        "    \n",
        "    return(' '.join(text))\n",
        "  "
      ],
      "execution_count": 0,
      "outputs": []
    },
    {
      "cell_type": "code",
      "metadata": {
        "id": "WjiTG0PUmLkq",
        "colab_type": "code",
        "outputId": "d65e6972-a178-4063-e06e-c584717a6793",
        "colab": {
          "base_uri": "https://localhost:8080/",
          "height": 204
        }
      },
      "source": [
        "df2['filt_sent'] = df2['Review'].apply(preprocessing)\n",
        "\n",
        "# check how preprocessing function worked\n",
        "\n",
        "df2.head()"
      ],
      "execution_count": 197,
      "outputs": [
        {
          "output_type": "execute_result",
          "data": {
            "text/html": [
              "<div>\n",
              "<style scoped>\n",
              "    .dataframe tbody tr th:only-of-type {\n",
              "        vertical-align: middle;\n",
              "    }\n",
              "\n",
              "    .dataframe tbody tr th {\n",
              "        vertical-align: top;\n",
              "    }\n",
              "\n",
              "    .dataframe thead th {\n",
              "        text-align: right;\n",
              "    }\n",
              "</style>\n",
              "<table border=\"1\" class=\"dataframe\">\n",
              "  <thead>\n",
              "    <tr style=\"text-align: right;\">\n",
              "      <th></th>\n",
              "      <th>Review</th>\n",
              "      <th>Rating</th>\n",
              "      <th>sentiment</th>\n",
              "      <th>filt_sent</th>\n",
              "    </tr>\n",
              "  </thead>\n",
              "  <tbody>\n",
              "    <tr>\n",
              "      <th>0</th>\n",
              "      <td>Didn't make me feel anything unlike the original.</td>\n",
              "      <td>STAR_3</td>\n",
              "      <td>1</td>\n",
              "      <td>didnt make me feel anything unlike original</td>\n",
              "    </tr>\n",
              "    <tr>\n",
              "      <th>1</th>\n",
              "      <td>Well done! A great way to redo a classic. It f...</td>\n",
              "      <td>STAR_5</td>\n",
              "      <td>0</td>\n",
              "      <td>well done great way to redo classic it felt pa...</td>\n",
              "    </tr>\n",
              "    <tr>\n",
              "      <th>2</th>\n",
              "      <td>Good movie.  Just that the original animated w...</td>\n",
              "      <td>STAR_4</td>\n",
              "      <td>0</td>\n",
              "      <td>good movie just that original animated wa bett...</td>\n",
              "    </tr>\n",
              "    <tr>\n",
              "      <th>3</th>\n",
              "      <td>I didn’t like Beyoncé being nala. Bad acting. ...</td>\n",
              "      <td>STAR_3</td>\n",
              "      <td>1</td>\n",
              "      <td>didn like beyoncé being nala bad acting didn l...</td>\n",
              "    </tr>\n",
              "    <tr>\n",
              "      <th>4</th>\n",
              "      <td>Such a beautiful story. We've loved the animat...</td>\n",
              "      <td>STAR_5</td>\n",
              "      <td>0</td>\n",
              "      <td>such beautiful story weve loved animated versi...</td>\n",
              "    </tr>\n",
              "  </tbody>\n",
              "</table>\n",
              "</div>"
            ],
            "text/plain": [
              "                                              Review  ...                                          filt_sent\n",
              "0  Didn't make me feel anything unlike the original.  ...        didnt make me feel anything unlike original\n",
              "1  Well done! A great way to redo a classic. It f...  ...  well done great way to redo classic it felt pa...\n",
              "2  Good movie.  Just that the original animated w...  ...  good movie just that original animated wa bett...\n",
              "3  I didn’t like Beyoncé being nala. Bad acting. ...  ...  didn like beyoncé being nala bad acting didn l...\n",
              "4  Such a beautiful story. We've loved the animat...  ...  such beautiful story weve loved animated versi...\n",
              "\n",
              "[5 rows x 4 columns]"
            ]
          },
          "metadata": {
            "tags": []
          },
          "execution_count": 197
        }
      ]
    },
    {
      "cell_type": "code",
      "metadata": {
        "id": "6pU4lv0gouOB",
        "colab_type": "code",
        "outputId": "0bed2e07-e450-4dc0-ebd0-df331a5d3083",
        "colab": {
          "base_uri": "https://localhost:8080/",
          "height": 204
        }
      },
      "source": [
        "# taking selective columns from df2 for further process \n",
        "\n",
        "df3 = df2.loc[:, ['filt_sent', 'sentiment']]\n",
        "display(df3.head())"
      ],
      "execution_count": 198,
      "outputs": [
        {
          "output_type": "display_data",
          "data": {
            "text/html": [
              "<div>\n",
              "<style scoped>\n",
              "    .dataframe tbody tr th:only-of-type {\n",
              "        vertical-align: middle;\n",
              "    }\n",
              "\n",
              "    .dataframe tbody tr th {\n",
              "        vertical-align: top;\n",
              "    }\n",
              "\n",
              "    .dataframe thead th {\n",
              "        text-align: right;\n",
              "    }\n",
              "</style>\n",
              "<table border=\"1\" class=\"dataframe\">\n",
              "  <thead>\n",
              "    <tr style=\"text-align: right;\">\n",
              "      <th></th>\n",
              "      <th>filt_sent</th>\n",
              "      <th>sentiment</th>\n",
              "    </tr>\n",
              "  </thead>\n",
              "  <tbody>\n",
              "    <tr>\n",
              "      <th>0</th>\n",
              "      <td>didnt make me feel anything unlike original</td>\n",
              "      <td>1</td>\n",
              "    </tr>\n",
              "    <tr>\n",
              "      <th>1</th>\n",
              "      <td>well done great way to redo classic it felt pa...</td>\n",
              "      <td>0</td>\n",
              "    </tr>\n",
              "    <tr>\n",
              "      <th>2</th>\n",
              "      <td>good movie just that original animated wa bett...</td>\n",
              "      <td>0</td>\n",
              "    </tr>\n",
              "    <tr>\n",
              "      <th>3</th>\n",
              "      <td>didn like beyoncé being nala bad acting didn l...</td>\n",
              "      <td>1</td>\n",
              "    </tr>\n",
              "    <tr>\n",
              "      <th>4</th>\n",
              "      <td>such beautiful story weve loved animated versi...</td>\n",
              "      <td>0</td>\n",
              "    </tr>\n",
              "  </tbody>\n",
              "</table>\n",
              "</div>"
            ],
            "text/plain": [
              "                                           filt_sent  sentiment\n",
              "0        didnt make me feel anything unlike original          1\n",
              "1  well done great way to redo classic it felt pa...          0\n",
              "2  good movie just that original animated wa bett...          0\n",
              "3  didn like beyoncé being nala bad acting didn l...          1\n",
              "4  such beautiful story weve loved animated versi...          0"
            ]
          },
          "metadata": {
            "tags": []
          }
        }
      ]
    },
    {
      "cell_type": "code",
      "metadata": {
        "id": "gdc9Sc8ionhH",
        "colab_type": "code",
        "colab": {}
      },
      "source": [
        "# necessary imports\n",
        "\n",
        "from sklearn.feature_extraction.text import CountVectorizer"
      ],
      "execution_count": 0,
      "outputs": []
    },
    {
      "cell_type": "code",
      "metadata": {
        "id": "-_L_WVOnvfPg",
        "colab_type": "code",
        "colab": {}
      },
      "source": [
        "# word count \n",
        "\n",
        "wc_vectorizer = CountVectorizer(binary = False, ngram_range = (1, 3))\n",
        "wc_vectorizer.fit(df3['filt_sent'])\n",
        "X = wc_vectorizer.transform(df3['filt_sent'])\n",
        "\n",
        "# list of words taken\n",
        "word_list = wc_vectorizer.get_feature_names() \n",
        "\n",
        "# no of times each word in the word_list appeared\n",
        "count_list = X.toarray().sum(axis=0)"
      ],
      "execution_count": 0,
      "outputs": []
    },
    {
      "cell_type": "code",
      "metadata": {
        "id": "qm44ZX5GwGZr",
        "colab_type": "code",
        "outputId": "99425ee0-c82b-4e7b-bf9c-3efb3669441a",
        "colab": {
          "base_uri": "https://localhost:8080/",
          "height": 68
        }
      },
      "source": [
        "# taking only the words where its total occurence across reviews acrosses a perticular mark\n",
        "\n",
        "w = np.array(word_list)[np.where(count_list > 30)]\n",
        "\n",
        "# no of words taken \n",
        "print('total words taken in columns\\n{}\\n'.format(len(w)))"
      ],
      "execution_count": 201,
      "outputs": [
        {
          "output_type": "stream",
          "text": [
            "total words taken in columns\n",
            "469\n",
            "\n"
          ],
          "name": "stdout"
        }
      ]
    },
    {
      "cell_type": "code",
      "metadata": {
        "id": "dzJmc_SqvGc-",
        "colab_type": "code",
        "colab": {}
      },
      "source": [
        "# createing a data frame with those words, rows are the reviews and columns represent some words present in thet reviews\n",
        "\n",
        "words_df = pd.DataFrame(X.toarray(), columns = word_list).loc[:, w]"
      ],
      "execution_count": 0,
      "outputs": []
    },
    {
      "cell_type": "code",
      "metadata": {
        "id": "5JG977HwBCb8",
        "colab_type": "code",
        "colab": {}
      },
      "source": [
        "# concatenating words_df with df3 which has reviews and associated sentiment\n",
        "\n",
        "df4 = pd.concat([df3, words_df], axis = 1)"
      ],
      "execution_count": 0,
      "outputs": []
    },
    {
      "cell_type": "code",
      "metadata": {
        "id": "AGuV0geJwPef",
        "colab_type": "code",
        "colab": {}
      },
      "source": [
        "df5 = df4.drop(['filt_sent'], axis = 1)"
      ],
      "execution_count": 0,
      "outputs": []
    },
    {
      "cell_type": "code",
      "metadata": {
        "id": "eDKdPPPjdfVO",
        "colab_type": "code",
        "outputId": "8e56b292-722e-44c7-e987-c71e59b3daf5",
        "colab": {
          "base_uri": "https://localhost:8080/",
          "height": 68
        }
      },
      "source": [
        "# number of positive and negative sentiments 0 for positive and 1 for negative\n",
        "df5.sentiment.value_counts()"
      ],
      "execution_count": 205,
      "outputs": [
        {
          "output_type": "execute_result",
          "data": {
            "text/plain": [
              "0    2173\n",
              "1     827\n",
              "Name: sentiment, dtype: int64"
            ]
          },
          "metadata": {
            "tags": []
          },
          "execution_count": 205
        }
      ]
    },
    {
      "cell_type": "code",
      "metadata": {
        "id": "1ijR3pvRwIdQ",
        "colab_type": "code",
        "colab": {}
      },
      "source": [
        "df5['sentiment'] = df5['sentiment'].astype('category')"
      ],
      "execution_count": 0,
      "outputs": []
    },
    {
      "cell_type": "code",
      "metadata": {
        "id": "Sm3njAmbalpc",
        "colab_type": "code",
        "colab": {
          "base_uri": "https://localhost:8080/",
          "height": 330
        },
        "outputId": "bc312946-24bd-4a7b-af5d-1fbd8fc5b172"
      },
      "source": [
        "# a data frame with words (n-gram) that occured in more than 30 reviews, going to use this for unsupervised learning\n",
        "\n",
        "df5.head()"
      ],
      "execution_count": 207,
      "outputs": [
        {
          "output_type": "execute_result",
          "data": {
            "text/html": [
              "<div>\n",
              "<style scoped>\n",
              "    .dataframe tbody tr th:only-of-type {\n",
              "        vertical-align: middle;\n",
              "    }\n",
              "\n",
              "    .dataframe tbody tr th {\n",
              "        vertical-align: top;\n",
              "    }\n",
              "\n",
              "    .dataframe thead th {\n",
              "        text-align: right;\n",
              "    }\n",
              "</style>\n",
              "<table border=\"1\" class=\"dataframe\">\n",
              "  <thead>\n",
              "    <tr style=\"text-align: right;\">\n",
              "      <th></th>\n",
              "      <th>sentiment</th>\n",
              "      <th>about</th>\n",
              "      <th>absolutely</th>\n",
              "      <th>acting</th>\n",
              "      <th>acting wa</th>\n",
              "      <th>action</th>\n",
              "      <th>actor</th>\n",
              "      <th>actually</th>\n",
              "      <th>add</th>\n",
              "      <th>added</th>\n",
              "      <th>adult</th>\n",
              "      <th>again</th>\n",
              "      <th>age</th>\n",
              "      <th>all</th>\n",
              "      <th>almost</th>\n",
              "      <th>also</th>\n",
              "      <th>always</th>\n",
              "      <th>amazing</th>\n",
              "      <th>an</th>\n",
              "      <th>and</th>\n",
              "      <th>and it</th>\n",
              "      <th>and pumba</th>\n",
              "      <th>and they</th>\n",
              "      <th>animal</th>\n",
              "      <th>animal looked</th>\n",
              "      <th>animal were</th>\n",
              "      <th>animated</th>\n",
              "      <th>animated movie</th>\n",
              "      <th>animated version</th>\n",
              "      <th>animation</th>\n",
              "      <th>animation wa</th>\n",
              "      <th>another</th>\n",
              "      <th>any</th>\n",
              "      <th>anything</th>\n",
              "      <th>are</th>\n",
              "      <th>away</th>\n",
              "      <th>awesome</th>\n",
              "      <th>back</th>\n",
              "      <th>bad</th>\n",
              "      <th>be</th>\n",
              "      <th>...</th>\n",
              "      <th>wa very</th>\n",
              "      <th>wait</th>\n",
              "      <th>want</th>\n",
              "      <th>wanted</th>\n",
              "      <th>wasnt</th>\n",
              "      <th>watch</th>\n",
              "      <th>watched</th>\n",
              "      <th>watching</th>\n",
              "      <th>way</th>\n",
              "      <th>we</th>\n",
              "      <th>well</th>\n",
              "      <th>well done</th>\n",
              "      <th>went</th>\n",
              "      <th>were</th>\n",
              "      <th>what</th>\n",
              "      <th>when</th>\n",
              "      <th>where</th>\n",
              "      <th>which</th>\n",
              "      <th>while</th>\n",
              "      <th>who</th>\n",
              "      <th>whole</th>\n",
              "      <th>why</th>\n",
              "      <th>will</th>\n",
              "      <th>wish</th>\n",
              "      <th>with</th>\n",
              "      <th>with my</th>\n",
              "      <th>without</th>\n",
              "      <th>wonderful</th>\n",
              "      <th>word</th>\n",
              "      <th>work</th>\n",
              "      <th>worth</th>\n",
              "      <th>would</th>\n",
              "      <th>would have</th>\n",
              "      <th>year</th>\n",
              "      <th>year old</th>\n",
              "      <th>yet</th>\n",
              "      <th>you</th>\n",
              "      <th>you feel</th>\n",
              "      <th>young</th>\n",
              "      <th>your</th>\n",
              "    </tr>\n",
              "  </thead>\n",
              "  <tbody>\n",
              "    <tr>\n",
              "      <th>0</th>\n",
              "      <td>1</td>\n",
              "      <td>0</td>\n",
              "      <td>0</td>\n",
              "      <td>0</td>\n",
              "      <td>0</td>\n",
              "      <td>0</td>\n",
              "      <td>0</td>\n",
              "      <td>0</td>\n",
              "      <td>0</td>\n",
              "      <td>0</td>\n",
              "      <td>0</td>\n",
              "      <td>0</td>\n",
              "      <td>0</td>\n",
              "      <td>0</td>\n",
              "      <td>0</td>\n",
              "      <td>0</td>\n",
              "      <td>0</td>\n",
              "      <td>0</td>\n",
              "      <td>0</td>\n",
              "      <td>0</td>\n",
              "      <td>0</td>\n",
              "      <td>0</td>\n",
              "      <td>0</td>\n",
              "      <td>0</td>\n",
              "      <td>0</td>\n",
              "      <td>0</td>\n",
              "      <td>0</td>\n",
              "      <td>0</td>\n",
              "      <td>0</td>\n",
              "      <td>0</td>\n",
              "      <td>0</td>\n",
              "      <td>0</td>\n",
              "      <td>0</td>\n",
              "      <td>1</td>\n",
              "      <td>0</td>\n",
              "      <td>0</td>\n",
              "      <td>0</td>\n",
              "      <td>0</td>\n",
              "      <td>0</td>\n",
              "      <td>0</td>\n",
              "      <td>...</td>\n",
              "      <td>0</td>\n",
              "      <td>0</td>\n",
              "      <td>0</td>\n",
              "      <td>0</td>\n",
              "      <td>0</td>\n",
              "      <td>0</td>\n",
              "      <td>0</td>\n",
              "      <td>0</td>\n",
              "      <td>0</td>\n",
              "      <td>0</td>\n",
              "      <td>0</td>\n",
              "      <td>0</td>\n",
              "      <td>0</td>\n",
              "      <td>0</td>\n",
              "      <td>0</td>\n",
              "      <td>0</td>\n",
              "      <td>0</td>\n",
              "      <td>0</td>\n",
              "      <td>0</td>\n",
              "      <td>0</td>\n",
              "      <td>0</td>\n",
              "      <td>0</td>\n",
              "      <td>0</td>\n",
              "      <td>0</td>\n",
              "      <td>0</td>\n",
              "      <td>0</td>\n",
              "      <td>0</td>\n",
              "      <td>0</td>\n",
              "      <td>0</td>\n",
              "      <td>0</td>\n",
              "      <td>0</td>\n",
              "      <td>0</td>\n",
              "      <td>0</td>\n",
              "      <td>0</td>\n",
              "      <td>0</td>\n",
              "      <td>0</td>\n",
              "      <td>0</td>\n",
              "      <td>0</td>\n",
              "      <td>0</td>\n",
              "      <td>0</td>\n",
              "    </tr>\n",
              "    <tr>\n",
              "      <th>1</th>\n",
              "      <td>0</td>\n",
              "      <td>0</td>\n",
              "      <td>0</td>\n",
              "      <td>0</td>\n",
              "      <td>0</td>\n",
              "      <td>0</td>\n",
              "      <td>0</td>\n",
              "      <td>0</td>\n",
              "      <td>0</td>\n",
              "      <td>0</td>\n",
              "      <td>0</td>\n",
              "      <td>0</td>\n",
              "      <td>0</td>\n",
              "      <td>1</td>\n",
              "      <td>0</td>\n",
              "      <td>0</td>\n",
              "      <td>0</td>\n",
              "      <td>0</td>\n",
              "      <td>0</td>\n",
              "      <td>0</td>\n",
              "      <td>0</td>\n",
              "      <td>0</td>\n",
              "      <td>0</td>\n",
              "      <td>1</td>\n",
              "      <td>0</td>\n",
              "      <td>0</td>\n",
              "      <td>0</td>\n",
              "      <td>0</td>\n",
              "      <td>0</td>\n",
              "      <td>0</td>\n",
              "      <td>0</td>\n",
              "      <td>0</td>\n",
              "      <td>0</td>\n",
              "      <td>0</td>\n",
              "      <td>0</td>\n",
              "      <td>0</td>\n",
              "      <td>0</td>\n",
              "      <td>0</td>\n",
              "      <td>0</td>\n",
              "      <td>0</td>\n",
              "      <td>...</td>\n",
              "      <td>0</td>\n",
              "      <td>0</td>\n",
              "      <td>0</td>\n",
              "      <td>0</td>\n",
              "      <td>0</td>\n",
              "      <td>0</td>\n",
              "      <td>0</td>\n",
              "      <td>1</td>\n",
              "      <td>1</td>\n",
              "      <td>0</td>\n",
              "      <td>1</td>\n",
              "      <td>1</td>\n",
              "      <td>0</td>\n",
              "      <td>0</td>\n",
              "      <td>0</td>\n",
              "      <td>0</td>\n",
              "      <td>0</td>\n",
              "      <td>0</td>\n",
              "      <td>0</td>\n",
              "      <td>0</td>\n",
              "      <td>0</td>\n",
              "      <td>0</td>\n",
              "      <td>0</td>\n",
              "      <td>0</td>\n",
              "      <td>0</td>\n",
              "      <td>0</td>\n",
              "      <td>0</td>\n",
              "      <td>0</td>\n",
              "      <td>0</td>\n",
              "      <td>0</td>\n",
              "      <td>0</td>\n",
              "      <td>0</td>\n",
              "      <td>0</td>\n",
              "      <td>0</td>\n",
              "      <td>0</td>\n",
              "      <td>0</td>\n",
              "      <td>0</td>\n",
              "      <td>0</td>\n",
              "      <td>0</td>\n",
              "      <td>0</td>\n",
              "    </tr>\n",
              "    <tr>\n",
              "      <th>2</th>\n",
              "      <td>0</td>\n",
              "      <td>0</td>\n",
              "      <td>0</td>\n",
              "      <td>0</td>\n",
              "      <td>0</td>\n",
              "      <td>0</td>\n",
              "      <td>0</td>\n",
              "      <td>0</td>\n",
              "      <td>0</td>\n",
              "      <td>0</td>\n",
              "      <td>0</td>\n",
              "      <td>0</td>\n",
              "      <td>0</td>\n",
              "      <td>0</td>\n",
              "      <td>0</td>\n",
              "      <td>0</td>\n",
              "      <td>0</td>\n",
              "      <td>0</td>\n",
              "      <td>0</td>\n",
              "      <td>0</td>\n",
              "      <td>0</td>\n",
              "      <td>0</td>\n",
              "      <td>0</td>\n",
              "      <td>0</td>\n",
              "      <td>0</td>\n",
              "      <td>0</td>\n",
              "      <td>1</td>\n",
              "      <td>0</td>\n",
              "      <td>0</td>\n",
              "      <td>0</td>\n",
              "      <td>0</td>\n",
              "      <td>0</td>\n",
              "      <td>0</td>\n",
              "      <td>0</td>\n",
              "      <td>0</td>\n",
              "      <td>0</td>\n",
              "      <td>0</td>\n",
              "      <td>0</td>\n",
              "      <td>0</td>\n",
              "      <td>0</td>\n",
              "      <td>...</td>\n",
              "      <td>0</td>\n",
              "      <td>0</td>\n",
              "      <td>0</td>\n",
              "      <td>0</td>\n",
              "      <td>0</td>\n",
              "      <td>0</td>\n",
              "      <td>0</td>\n",
              "      <td>0</td>\n",
              "      <td>0</td>\n",
              "      <td>0</td>\n",
              "      <td>0</td>\n",
              "      <td>0</td>\n",
              "      <td>0</td>\n",
              "      <td>0</td>\n",
              "      <td>0</td>\n",
              "      <td>0</td>\n",
              "      <td>0</td>\n",
              "      <td>0</td>\n",
              "      <td>0</td>\n",
              "      <td>0</td>\n",
              "      <td>0</td>\n",
              "      <td>0</td>\n",
              "      <td>0</td>\n",
              "      <td>0</td>\n",
              "      <td>0</td>\n",
              "      <td>0</td>\n",
              "      <td>0</td>\n",
              "      <td>0</td>\n",
              "      <td>0</td>\n",
              "      <td>0</td>\n",
              "      <td>0</td>\n",
              "      <td>0</td>\n",
              "      <td>0</td>\n",
              "      <td>0</td>\n",
              "      <td>0</td>\n",
              "      <td>0</td>\n",
              "      <td>0</td>\n",
              "      <td>0</td>\n",
              "      <td>0</td>\n",
              "      <td>0</td>\n",
              "    </tr>\n",
              "    <tr>\n",
              "      <th>3</th>\n",
              "      <td>1</td>\n",
              "      <td>0</td>\n",
              "      <td>0</td>\n",
              "      <td>1</td>\n",
              "      <td>0</td>\n",
              "      <td>0</td>\n",
              "      <td>0</td>\n",
              "      <td>0</td>\n",
              "      <td>0</td>\n",
              "      <td>1</td>\n",
              "      <td>0</td>\n",
              "      <td>0</td>\n",
              "      <td>0</td>\n",
              "      <td>0</td>\n",
              "      <td>0</td>\n",
              "      <td>0</td>\n",
              "      <td>0</td>\n",
              "      <td>0</td>\n",
              "      <td>0</td>\n",
              "      <td>0</td>\n",
              "      <td>0</td>\n",
              "      <td>0</td>\n",
              "      <td>0</td>\n",
              "      <td>0</td>\n",
              "      <td>0</td>\n",
              "      <td>0</td>\n",
              "      <td>0</td>\n",
              "      <td>0</td>\n",
              "      <td>0</td>\n",
              "      <td>0</td>\n",
              "      <td>0</td>\n",
              "      <td>0</td>\n",
              "      <td>0</td>\n",
              "      <td>0</td>\n",
              "      <td>0</td>\n",
              "      <td>0</td>\n",
              "      <td>0</td>\n",
              "      <td>0</td>\n",
              "      <td>1</td>\n",
              "      <td>0</td>\n",
              "      <td>...</td>\n",
              "      <td>0</td>\n",
              "      <td>0</td>\n",
              "      <td>0</td>\n",
              "      <td>0</td>\n",
              "      <td>0</td>\n",
              "      <td>0</td>\n",
              "      <td>0</td>\n",
              "      <td>0</td>\n",
              "      <td>0</td>\n",
              "      <td>0</td>\n",
              "      <td>0</td>\n",
              "      <td>0</td>\n",
              "      <td>0</td>\n",
              "      <td>0</td>\n",
              "      <td>0</td>\n",
              "      <td>0</td>\n",
              "      <td>0</td>\n",
              "      <td>0</td>\n",
              "      <td>0</td>\n",
              "      <td>0</td>\n",
              "      <td>0</td>\n",
              "      <td>0</td>\n",
              "      <td>0</td>\n",
              "      <td>0</td>\n",
              "      <td>0</td>\n",
              "      <td>0</td>\n",
              "      <td>0</td>\n",
              "      <td>0</td>\n",
              "      <td>0</td>\n",
              "      <td>0</td>\n",
              "      <td>0</td>\n",
              "      <td>0</td>\n",
              "      <td>0</td>\n",
              "      <td>0</td>\n",
              "      <td>0</td>\n",
              "      <td>0</td>\n",
              "      <td>0</td>\n",
              "      <td>0</td>\n",
              "      <td>0</td>\n",
              "      <td>0</td>\n",
              "    </tr>\n",
              "    <tr>\n",
              "      <th>4</th>\n",
              "      <td>0</td>\n",
              "      <td>0</td>\n",
              "      <td>0</td>\n",
              "      <td>0</td>\n",
              "      <td>0</td>\n",
              "      <td>0</td>\n",
              "      <td>0</td>\n",
              "      <td>0</td>\n",
              "      <td>0</td>\n",
              "      <td>0</td>\n",
              "      <td>0</td>\n",
              "      <td>0</td>\n",
              "      <td>0</td>\n",
              "      <td>1</td>\n",
              "      <td>0</td>\n",
              "      <td>0</td>\n",
              "      <td>0</td>\n",
              "      <td>0</td>\n",
              "      <td>0</td>\n",
              "      <td>0</td>\n",
              "      <td>0</td>\n",
              "      <td>0</td>\n",
              "      <td>0</td>\n",
              "      <td>1</td>\n",
              "      <td>0</td>\n",
              "      <td>1</td>\n",
              "      <td>1</td>\n",
              "      <td>0</td>\n",
              "      <td>1</td>\n",
              "      <td>0</td>\n",
              "      <td>0</td>\n",
              "      <td>0</td>\n",
              "      <td>0</td>\n",
              "      <td>0</td>\n",
              "      <td>0</td>\n",
              "      <td>0</td>\n",
              "      <td>0</td>\n",
              "      <td>0</td>\n",
              "      <td>0</td>\n",
              "      <td>0</td>\n",
              "      <td>...</td>\n",
              "      <td>0</td>\n",
              "      <td>0</td>\n",
              "      <td>0</td>\n",
              "      <td>0</td>\n",
              "      <td>0</td>\n",
              "      <td>0</td>\n",
              "      <td>0</td>\n",
              "      <td>0</td>\n",
              "      <td>0</td>\n",
              "      <td>0</td>\n",
              "      <td>0</td>\n",
              "      <td>0</td>\n",
              "      <td>0</td>\n",
              "      <td>2</td>\n",
              "      <td>0</td>\n",
              "      <td>0</td>\n",
              "      <td>0</td>\n",
              "      <td>1</td>\n",
              "      <td>0</td>\n",
              "      <td>0</td>\n",
              "      <td>0</td>\n",
              "      <td>0</td>\n",
              "      <td>0</td>\n",
              "      <td>0</td>\n",
              "      <td>0</td>\n",
              "      <td>0</td>\n",
              "      <td>0</td>\n",
              "      <td>0</td>\n",
              "      <td>0</td>\n",
              "      <td>0</td>\n",
              "      <td>0</td>\n",
              "      <td>0</td>\n",
              "      <td>0</td>\n",
              "      <td>1</td>\n",
              "      <td>0</td>\n",
              "      <td>0</td>\n",
              "      <td>0</td>\n",
              "      <td>0</td>\n",
              "      <td>0</td>\n",
              "      <td>0</td>\n",
              "    </tr>\n",
              "  </tbody>\n",
              "</table>\n",
              "<p>5 rows × 470 columns</p>\n",
              "</div>"
            ],
            "text/plain": [
              "  sentiment  about  absolutely  acting  ...  you  you feel  young  your\n",
              "0         1      0           0       0  ...    0         0      0     0\n",
              "1         0      0           0       0  ...    0         0      0     0\n",
              "2         0      0           0       0  ...    0         0      0     0\n",
              "3         1      0           0       1  ...    0         0      0     0\n",
              "4         0      0           0       0  ...    0         0      0     0\n",
              "\n",
              "[5 rows x 470 columns]"
            ]
          },
          "metadata": {
            "tags": []
          },
          "execution_count": 207
        }
      ]
    },
    {
      "cell_type": "markdown",
      "metadata": {
        "id": "zoNb-JMbbaJw",
        "colab_type": "text"
      },
      "source": [
        "# Task 3: EDA using Visualization"
      ]
    },
    {
      "cell_type": "code",
      "metadata": {
        "id": "4rBdXnE_B0Sr",
        "colab_type": "code",
        "outputId": "0621873b-2c8f-4ede-fe22-d745226ac9ed",
        "colab": {
          "base_uri": "https://localhost:8080/",
          "height": 363
        }
      },
      "source": [
        "import seaborn as sns\n",
        "import matplotlib.pyplot as plt\n",
        "\n",
        "a4_dims = (13, 5)\n",
        "fig, ax = pyplot.subplots(figsize=a4_dims)\n",
        "\n",
        "sns.countplot(x = 'Rating', hue = 'sentiment', data = df2.loc[:, ['Rating', 'sentiment']])\n",
        "plt.title('Distribution of Rating with its associated sentiment', fontsize = 20, color = 'RED')\n",
        "plt.xlabel('Rating', fontsize = 15, color = 'black')\n",
        "plt.ylabel('Count', fontsize = 15, color = 'black')\n",
        "plt.show()"
      ],
      "execution_count": 208,
      "outputs": [
        {
          "output_type": "display_data",
          "data": {
            "image/png": "[encoded data removed]",
            "text/plain": [
              "<Figure size 936x360 with 1 Axes>"
            ]
          },
          "metadata": {
            "tags": []
          }
        }
      ]
    },
    {
      "cell_type": "code",
      "metadata": {
        "id": "JXYBEyFrwJ8s",
        "colab_type": "code",
        "colab": {
          "base_uri": "https://localhost:8080/",
          "height": 316
        },
        "outputId": "e1fc573f-db0a-499c-ac94-f58fd868f982"
      },
      "source": [
        "# sentiment of reviews, count of positive and negative\n",
        "sent = df5.replace({'sentiment': {0: 'positive', 1:'negative'}})\n",
        "sns.set(style=\"darkgrid\")\n",
        "ax = sns.countplot(x=\"sentiment\", data=sent)\n",
        "ax.figure.suptitle('Ratio of Positive-Negative Sentiment', fontsize = 20, color = 'RED')\n",
        "plt.ylabel('Count', fontsize = 15, color = 'black')\n",
        "plt.xlabel('Sentiment', fontsize = 15, color = 'black')\n",
        "plt.show()"
      ],
      "execution_count": 209,
      "outputs": [
        {
          "output_type": "display_data",
          "data": {
            "image/png": "[encoded data removed]",
            "text/plain": [
              "<Figure size 432x288 with 1 Axes>"
            ]
          },
          "metadata": {
            "tags": []
          }
        }
      ]
    },
    {
      "cell_type": "code",
      "metadata": {
        "id": "G7QYOxI2mMuy",
        "colab_type": "code",
        "colab": {}
      },
      "source": [
        "# word count \n",
        "\n",
        "negat_senti = df4.loc[df4['sentiment'] == 1, ['filt_sent']]\n",
        "posit_senti = df4.loc[df4['sentiment'] == 0, ['filt_sent']]\n",
        "\n",
        "word_in = pd.DataFrame()\n",
        "\n",
        "word_in['words'] = df4['filt_sent'].apply(lambda x: len(str(x).split()))\n",
        "word_in_negat_rev = negat_senti['filt_sent'].apply(lambda x: len(str(x).split()))\n",
        "word_in_posit_rev = posit_senti['filt_sent'].apply(lambda x: len(str(x).split()))"
      ],
      "execution_count": 0,
      "outputs": []
    },
    {
      "cell_type": "code",
      "metadata": {
        "id": "Pkp5kUsppRZ0",
        "colab_type": "code",
        "colab": {
          "base_uri": "https://localhost:8080/",
          "height": 343
        },
        "outputId": "e487b22d-a7dc-4f71-c48b-d6bc4513fb16"
      },
      "source": [
        "a4_dims = (13, 5)\n",
        "\n",
        "f, axes = plt.subplots(1, 2, figsize=a4_dims)\n",
        "\n",
        "sns.distplot(word_in_negat_rev, hist=True, kde=False, \n",
        "               color = 'red',\n",
        "             hist_kws={'edgecolor':'black'}, ax=axes[0], axlabel = False)\n",
        "\n",
        "\n",
        "\n",
        "sns.distplot(word_in_posit_rev, hist=True, kde=False, \n",
        "               color = 'green',\n",
        "             hist_kws={'edgecolor':'black'}, ax=axes[1], axlabel = False)\n",
        "\n",
        "plt.title('Text word count distribution Red-Negative, Green-Positive', fontsize=20, color = 'blue')\n",
        "plt.show()\n",
        "\n"
      ],
      "execution_count": 211,
      "outputs": [
        {
          "output_type": "display_data",
          "data": {
            "image/png": "[encoded data removed]",
            "text/plain": [
              "<Figure size 936x360 with 2 Axes>"
            ]
          },
          "metadata": {
            "tags": []
          }
        }
      ]
    },
    {
      "cell_type": "code",
      "metadata": {
        "id": "UD2bEqYCc5zN",
        "colab_type": "code",
        "colab": {
          "base_uri": "https://localhost:8080/",
          "height": 51
        },
        "outputId": "ce617cbb-aa3e-4fec-c63c-62f6207d5510"
      },
      "source": [
        "# necessary imports\n",
        "import nltk\n",
        "nltk.download('stopwords')\n",
        "\n",
        "import warnings\n",
        "warnings.simplefilter(\"ignore\", UserWarning)\n",
        "\n",
        "from wordcloud import WordCloud, STOPWORDS, ImageColorGenerator"
      ],
      "execution_count": 212,
      "outputs": [
        {
          "output_type": "stream",
          "text": [
            "[nltk_data] Downloading package stopwords to /root/nltk_data...\n",
            "[nltk_data]   Package stopwords is already up-to-date!\n"
          ],
          "name": "stdout"
        }
      ]
    },
    {
      "cell_type": "code",
      "metadata": {
        "id": "IFh85OSxhzGV",
        "colab_type": "code",
        "colab": {
          "base_uri": "https://localhost:8080/",
          "height": 308
        },
        "outputId": "c3cecc31-2b5c-469c-938d-7d7786cbc7bf"
      },
      "source": [
        "\n",
        "negat_senti = df4.loc[df4['sentiment'] == 1, ['filt_sent']]\n",
        "posit_senti = df4.loc[df4['sentiment'] == 0, ['filt_sent']]\n",
        "\n",
        "#STOPWORDS = stopwords.words('english')\n",
        "stopwords = set(STOPWORDS)\n",
        "stopwords.update(['loved', 'good', 'lion king', 'movie', 'wa', 'good', 'film', 'didnt', 'original', 'amazing',\\\n",
        "                 'great', 'lion', 'king', 'great', 'amazing', 'remake', 'disney', 'animal', 'awesome',\\\n",
        "                 'see', 'really', 'well', 'one', 'done', 'better', 'time', 'much',\\\n",
        "                 'still', 'way', 'thing','feel', 'made', 'shot', 'part', 'new', 'felt',\\\n",
        "                 'even','liked', 'like', 'would'])\n",
        "\n",
        "\n",
        "def get_top_n_words(corpus, n=None):\n",
        "    vec = CountVectorizer(stop_words = stopwords).fit(corpus)\n",
        "    bag_of_words = vec.transform(corpus)\n",
        "    sum_words = bag_of_words.sum(axis=0) \n",
        "    words_freq = [(word, sum_words[0, idx]) for word, idx in vec.vocabulary_.items()]\n",
        "    words_freq =sorted(words_freq, key = lambda x: x[1], reverse=True)\n",
        "    return words_freq[:n]\n",
        "\n",
        "  \n",
        "common_words = get_top_n_words(negat_senti['filt_sent'], 15)\n",
        "uni_posit = pd.DataFrame(common_words, columns = ['ReviewText' , 'count'])\n",
        "uni_posit.groupby('ReviewText').sum()['count'].sort_values(ascending=True).plot.barh()\n",
        "\n",
        "\n",
        "plt.xlabel('count', fontsize=15, color = 'black')\n",
        "plt.ylabel('ReviewText', fontsize=15, color = 'black')\n",
        "plt.title('Top 15 words in Negative Reviews', fontsize=20, color = 'red')\n",
        "plt.show()"
      ],
      "execution_count": 213,
      "outputs": [
        {
          "output_type": "display_data",
          "data": {
            "image/png": "[encoded data removed]",
            "text/plain": [
              "<Figure size 432x288 with 1 Axes>"
            ]
          },
          "metadata": {
            "tags": []
          }
        }
      ]
    },
    {
      "cell_type": "code",
      "metadata": {
        "id": "Xr-JkYn_mLc1",
        "colab_type": "code",
        "colab": {
          "base_uri": "https://localhost:8080/",
          "height": 308
        },
        "outputId": "30f6a678-8777-4b39-a91c-1b43cc4f257d"
      },
      "source": [
        "common_words = get_top_n_words(posit_senti['filt_sent'], 15)\n",
        "uni_posit = pd.DataFrame(common_words, columns = ['ReviewText' , 'count'])\n",
        "uni_posit.groupby('ReviewText').sum()['count'].sort_values(ascending=True).plot.barh()\n",
        "\n",
        "plt.xlabel('count')\n",
        "plt.title('Top 15 Words in Positive Reviews', fontsize=20, color = 'red')\n",
        "plt.xlabel('count', fontsize=15, color = 'black')\n",
        "plt.ylabel('ReviewText', fontsize=15, color = 'black')\n",
        "plt.show()"
      ],
      "execution_count": 214,
      "outputs": [
        {
          "output_type": "display_data",
          "data": {
            "image/png": "[encoded data removed]",
            "text/plain": [
              "<Figure size 432x288 with 1 Axes>"
            ]
          },
          "metadata": {
            "tags": []
          }
        }
      ]
    },
    {
      "cell_type": "code",
      "metadata": {
        "id": "8e-NpTiwAQaM",
        "colab_type": "code",
        "colab": {
          "base_uri": "https://localhost:8080/",
          "height": 51
        },
        "outputId": "0ac25e2e-4e86-4df5-dce0-3b5858509ef4"
      },
      "source": [
        "from wordcloud import WordCloud, STOPWORDS, ImageColorGenerator\n",
        "\n",
        "\n",
        "negat_senti = df4.loc[df4['sentiment'] == 1, ['filt_sent']]\n",
        "posit_senti = df4.loc[df4['sentiment'] == 0, ['filt_sent']]\n",
        "\n",
        "negat_text = \" \".join(review for review in negat_senti.filt_sent)\n",
        "print (\"There are {} words in the combination of all negative review.\".format(len(negat_text)))\n",
        "\n",
        "posit_text = \" \".join(review for review in posit_senti.filt_sent)\n",
        "print (\"There are {} words in the combination of all positive review.\".format(len(posit_text)))\n",
        "\n",
        "stopwords = set(STOPWORDS)\n",
        "stopwords.update(['loved', 'good', 'lion king', 'movie', 'wa', 'good', 'film', 'didnt', 'original', 'amazing',\\\n",
        "                 'great', 'lion', 'king', 'great', 'amazing', 'remake', 'disney', 'animal', 'awesome',\\\n",
        "                 'see', 'really', 'well', 'one', 'done', 'better', 'time', 'much',\\\n",
        "                 'still', 'way', 'thing','feel', 'made', 'shot', 'part', 'new', 'felt',\\\n",
        "                 'even','liked', 'enjoyed'])\n",
        "# Generate a word cloud image\n",
        "wordcloud_negat = WordCloud(stopwords=stopwords, background_color=\"white\",\\\n",
        "                           max_font_size=50, max_words=100).generate(negat_text)\n",
        "wordcloud_posit = WordCloud(stopwords=stopwords, background_color=\"white\",\\\n",
        "                           max_font_size=50, max_words=100).generate(posit_text)\n"
      ],
      "execution_count": 215,
      "outputs": [
        {
          "output_type": "stream",
          "text": [
            "There are 164423 words in the combination of all negative review.\n",
            "There are 218007 words in the combination of all positive review.\n"
          ],
          "name": "stdout"
        }
      ]
    },
    {
      "cell_type": "code",
      "metadata": {
        "id": "htpjU5z0P5MF",
        "colab_type": "code",
        "colab": {
          "base_uri": "https://localhost:8080/",
          "height": 239
        },
        "outputId": "01c6f4a9-902e-488b-ad64-8ba49eb22da7"
      },
      "source": [
        "# Display the generated image:\n",
        "# the matplotlib way:\n",
        "\n",
        "plt.imshow(wordcloud_posit, interpolation='bilinear')\n",
        "plt.title('Positive Reviews Wordcloud', fontsize=20, color = 'red')\n",
        "plt.axis(\"off\")\n",
        "plt.show()\n"
      ],
      "execution_count": 216,
      "outputs": [
        {
          "output_type": "display_data",
          "data": {
            "image/png": "[encoded data removed]",
            "text/plain": [
              "<Figure size 432x288 with 1 Axes>"
            ]
          },
          "metadata": {
            "tags": []
          }
        }
      ]
    },
    {
      "cell_type": "code",
      "metadata": {
        "id": "dUI52k2kAQJW",
        "colab_type": "code",
        "colab": {
          "base_uri": "https://localhost:8080/",
          "height": 239
        },
        "outputId": "40da4677-e53e-46ab-892b-71eb7988dd55"
      },
      "source": [
        "# Display the generated image:\n",
        "# the matplotlib way:\n",
        "\n",
        "plt.imshow(wordcloud_negat, interpolation='bilinear')\n",
        "plt.title('Negative Reviews Wordcloud', fontsize=20, color = 'red')\n",
        "plt.axis(\"off\")\n",
        "plt.show()"
      ],
      "execution_count": 217,
      "outputs": [
        {
          "output_type": "display_data",
          "data": {
            "image/png": "[encoded data removed]",
            "text/plain": [
              "<Figure size 432x288 with 1 Axes>"
            ]
          },
          "metadata": {
            "tags": []
          }
        }
      ]
    },
    {
      "cell_type": "code",
      "metadata": {
        "id": "ZcR_6ZKB0mFr",
        "colab_type": "code",
        "colab": {
          "base_uri": "https://localhost:8080/",
          "height": 308
        },
        "outputId": "f88b4e04-53d5-4ff3-8fb7-92d392d6cd2b"
      },
      "source": [
        "negat_senti = df4.loc[df4['sentiment'] == 1, ['filt_sent']]\n",
        "posit_senti = df4.loc[df4['sentiment'] == 0, ['filt_sent']]\n",
        "\n",
        "def get_top_n_trigram(corpus, n=None):\n",
        "    vec = CountVectorizer(ngram_range=(2, 3), stop_words= stopwords).fit(corpus)\n",
        "    bag_of_words = vec.transform(corpus)\n",
        "    sum_words = bag_of_words.sum(axis=0) \n",
        "    words_freq = [(word, sum_words[0, idx]) for word, idx in vec.vocabulary_.items()]\n",
        "    words_freq =sorted(words_freq, key = lambda x: x[1], reverse=True)\n",
        "    return words_freq[:n]\n",
        "  \n",
        "common_words = get_top_n_trigram(posit_senti['filt_sent'], 15)\n",
        "   \n",
        "trigram_posit = pd.DataFrame(common_words, columns = ['ReviewText' , 'count'])\n",
        "trigram_posit.groupby('ReviewText').sum()['count'].sort_values(ascending=True).plot.barh()\n",
        "plt.title('Top 15 bigrams in Positive Reviews', fontsize=20, color = 'red')\n",
        "plt.xlabel('count')\n",
        "plt.xticks(list(range(0,22, 4)))\n",
        "plt.xlabel('count', fontsize=15, color = 'black')\n",
        "plt.ylabel('ReviewText', fontsize=15, color = 'black')\n",
        "plt.show()\n"
      ],
      "execution_count": 218,
      "outputs": [
        {
          "output_type": "display_data",
          "data": {
            "image/png": "[encoded data removed]",
            "text/plain": [
              "<Figure size 432x288 with 1 Axes>"
            ]
          },
          "metadata": {
            "tags": []
          }
        }
      ]
    },
    {
      "cell_type": "code",
      "metadata": {
        "id": "ewA-J_iV0ueN",
        "colab_type": "code",
        "colab": {
          "base_uri": "https://localhost:8080/",
          "height": 308
        },
        "outputId": "f821a4fa-618d-4d81-8574-06e436d308ed"
      },
      "source": [
        "  \n",
        "common_words = get_top_n_trigram(negat_senti['filt_sent'], 15)\n",
        "    \n",
        "trigram_negat = pd.DataFrame(common_words, columns = ['ReviewText' , 'count'])\n",
        "trigram_negat.groupby('ReviewText').sum()['count'].sort_values(ascending=True).plot.barh(x='ReviewText', y='count')\n",
        "\n",
        "plt.title('Top 15 bigrams in Negative Reviews', fontsize=20, color = 'red')\n",
        "plt.xlabel('count')\n",
        "plt.xticks(list(range(0,22, 4)))\n",
        "plt.xlabel('count', fontsize=15, color = 'black')\n",
        "plt.ylabel('ReviewText', fontsize=15, color = 'black')\n",
        "plt.show()"
      ],
      "execution_count": 219,
      "outputs": [
        {
          "output_type": "display_data",
          "data": {
            "image/png": "[encoded data removed]",
            "text/plain": [
              "<Figure size 432x288 with 1 Axes>"
            ]
          },
          "metadata": {
            "tags": []
          }
        }
      ]
    },
    {
      "cell_type": "markdown",
      "metadata": {
        "id": "eA437AjJeYOI",
        "colab_type": "text"
      },
      "source": [
        "# Task 4: Sentiment classification using supervised learning algorithems"
      ]
    },
    {
      "cell_type": "code",
      "metadata": {
        "id": "WIpT8tQajL8g",
        "colab_type": "code",
        "colab": {}
      },
      "source": [
        "from sklearn.linear_model import LogisticRegression\n",
        "from sklearn.metrics import f1_score\n",
        "from sklearn.model_selection import train_test_split"
      ],
      "execution_count": 0,
      "outputs": []
    },
    {
      "cell_type": "code",
      "metadata": {
        "id": "9nu9cooVGrPP",
        "colab_type": "code",
        "outputId": "62d23dc0-38c6-44d5-a8e7-ea23efa4b25f",
        "colab": {
          "base_uri": "https://localhost:8080/",
          "height": 204
        }
      },
      "source": [
        "test_df = pd.read_csv(\"/content/drive/My Drive/INSOFE/Text_Mining/phd/test-1566381431512.csv\")\n",
        "display(test_df.head())\n"
      ],
      "execution_count": 221,
      "outputs": [
        {
          "output_type": "display_data",
          "data": {
            "text/html": [
              "<div>\n",
              "<style scoped>\n",
              "    .dataframe tbody tr th:only-of-type {\n",
              "        vertical-align: middle;\n",
              "    }\n",
              "\n",
              "    .dataframe tbody tr th {\n",
              "        vertical-align: top;\n",
              "    }\n",
              "\n",
              "    .dataframe thead th {\n",
              "        text-align: right;\n",
              "    }\n",
              "</style>\n",
              "<table border=\"1\" class=\"dataframe\">\n",
              "  <thead>\n",
              "    <tr style=\"text-align: right;\">\n",
              "      <th></th>\n",
              "      <th>ReviewID</th>\n",
              "      <th>Review</th>\n",
              "    </tr>\n",
              "  </thead>\n",
              "  <tbody>\n",
              "    <tr>\n",
              "      <th>0</th>\n",
              "      <td>92876</td>\n",
              "      <td>Was good. Nothing like the original but I beli...</td>\n",
              "    </tr>\n",
              "    <tr>\n",
              "      <th>1</th>\n",
              "      <td>92877</td>\n",
              "      <td>I absolutely loved it! A wonderful rendition o...</td>\n",
              "    </tr>\n",
              "    <tr>\n",
              "      <th>2</th>\n",
              "      <td>92878</td>\n",
              "      <td>I love the movie! Good job director! \\nI appre...</td>\n",
              "    </tr>\n",
              "    <tr>\n",
              "      <th>3</th>\n",
              "      <td>92879</td>\n",
              "      <td>GREAT MOVIE!!  Same as the original, but the c...</td>\n",
              "    </tr>\n",
              "    <tr>\n",
              "      <th>4</th>\n",
              "      <td>92880</td>\n",
              "      <td>Realistic.   Fantastic special effects</td>\n",
              "    </tr>\n",
              "  </tbody>\n",
              "</table>\n",
              "</div>"
            ],
            "text/plain": [
              "   ReviewID                                             Review\n",
              "0     92876  Was good. Nothing like the original but I beli...\n",
              "1     92877  I absolutely loved it! A wonderful rendition o...\n",
              "2     92878  I love the movie! Good job director! \\nI appre...\n",
              "3     92879  GREAT MOVIE!!  Same as the original, but the c...\n",
              "4     92880             Realistic.   Fantastic special effects"
            ]
          },
          "metadata": {
            "tags": []
          }
        }
      ]
    },
    {
      "cell_type": "code",
      "metadata": {
        "id": "yezLLJ2s2MN3",
        "colab_type": "code",
        "outputId": "fff7eeb4-2ae4-4d3f-a51f-470fc527691a",
        "colab": {
          "base_uri": "https://localhost:8080/",
          "height": 204
        }
      },
      "source": [
        "test_df['Review'] = test_df['Review'].apply(preprocessing)\n",
        "display(test_df.head())"
      ],
      "execution_count": 222,
      "outputs": [
        {
          "output_type": "display_data",
          "data": {
            "text/html": [
              "<div>\n",
              "<style scoped>\n",
              "    .dataframe tbody tr th:only-of-type {\n",
              "        vertical-align: middle;\n",
              "    }\n",
              "\n",
              "    .dataframe tbody tr th {\n",
              "        vertical-align: top;\n",
              "    }\n",
              "\n",
              "    .dataframe thead th {\n",
              "        text-align: right;\n",
              "    }\n",
              "</style>\n",
              "<table border=\"1\" class=\"dataframe\">\n",
              "  <thead>\n",
              "    <tr style=\"text-align: right;\">\n",
              "      <th></th>\n",
              "      <th>ReviewID</th>\n",
              "      <th>Review</th>\n",
              "    </tr>\n",
              "  </thead>\n",
              "  <tbody>\n",
              "    <tr>\n",
              "      <th>0</th>\n",
              "      <td>92876</td>\n",
              "      <td>wa good nothing like original but believe that...</td>\n",
              "    </tr>\n",
              "    <tr>\n",
              "      <th>1</th>\n",
              "      <td>92877</td>\n",
              "      <td>absolutely loved it wonderful rendition origin...</td>\n",
              "    </tr>\n",
              "    <tr>\n",
              "      <th>2</th>\n",
              "      <td>92878</td>\n",
              "      <td>love movie good job director appreciate all wo...</td>\n",
              "    </tr>\n",
              "    <tr>\n",
              "      <th>3</th>\n",
              "      <td>92879</td>\n",
              "      <td>great movie same a original but cinematography...</td>\n",
              "    </tr>\n",
              "    <tr>\n",
              "      <th>4</th>\n",
              "      <td>92880</td>\n",
              "      <td>realistic fantastic special effect</td>\n",
              "    </tr>\n",
              "  </tbody>\n",
              "</table>\n",
              "</div>"
            ],
            "text/plain": [
              "   ReviewID                                             Review\n",
              "0     92876  wa good nothing like original but believe that...\n",
              "1     92877  absolutely loved it wonderful rendition origin...\n",
              "2     92878  love movie good job director appreciate all wo...\n",
              "3     92879  great movie same a original but cinematography...\n",
              "4     92880                 realistic fantastic special effect"
            ]
          },
          "metadata": {
            "tags": []
          }
        }
      ]
    },
    {
      "cell_type": "code",
      "metadata": {
        "id": "lBodOjTWODh8",
        "colab_type": "code",
        "colab": {}
      },
      "source": [
        "test_df['filt_sent'] = test_df['Review']"
      ],
      "execution_count": 0,
      "outputs": []
    },
    {
      "cell_type": "code",
      "metadata": {
        "id": "39Jk50LKNS3j",
        "colab_type": "code",
        "outputId": "ce94b98b-3ef1-436d-dd6c-a9c086e16e54",
        "colab": {
          "base_uri": "https://localhost:8080/",
          "height": 233
        }
      },
      "source": [
        "total_df = pd.concat([df3, test_df])"
      ],
      "execution_count": 224,
      "outputs": [
        {
          "output_type": "stream",
          "text": [
            "/usr/local/lib/python3.6/dist-packages/ipykernel_launcher.py:1: FutureWarning: Sorting because non-concatenation axis is not aligned. A future version\n",
            "of pandas will change to not sort by default.\n",
            "\n",
            "To accept the future behavior, pass 'sort=False'.\n",
            "\n",
            "To retain the current behavior and silence the warning, pass 'sort=True'.\n",
            "\n",
            "  \"\"\"Entry point for launching an IPython kernel.\n"
          ],
          "name": "stderr"
        }
      ]
    },
    {
      "cell_type": "code",
      "metadata": {
        "id": "bW5x1EmRR9vX",
        "colab_type": "code",
        "outputId": "bf1b3ec3-d984-434d-fd3f-e621e8839d3d",
        "colab": {
          "base_uri": "https://localhost:8080/",
          "height": 204
        }
      },
      "source": [
        "total_df.head()"
      ],
      "execution_count": 225,
      "outputs": [
        {
          "output_type": "execute_result",
          "data": {
            "text/html": [
              "<div>\n",
              "<style scoped>\n",
              "    .dataframe tbody tr th:only-of-type {\n",
              "        vertical-align: middle;\n",
              "    }\n",
              "\n",
              "    .dataframe tbody tr th {\n",
              "        vertical-align: top;\n",
              "    }\n",
              "\n",
              "    .dataframe thead th {\n",
              "        text-align: right;\n",
              "    }\n",
              "</style>\n",
              "<table border=\"1\" class=\"dataframe\">\n",
              "  <thead>\n",
              "    <tr style=\"text-align: right;\">\n",
              "      <th></th>\n",
              "      <th>Review</th>\n",
              "      <th>ReviewID</th>\n",
              "      <th>filt_sent</th>\n",
              "      <th>sentiment</th>\n",
              "    </tr>\n",
              "  </thead>\n",
              "  <tbody>\n",
              "    <tr>\n",
              "      <th>0</th>\n",
              "      <td>NaN</td>\n",
              "      <td>NaN</td>\n",
              "      <td>didnt make me feel anything unlike original</td>\n",
              "      <td>1.0</td>\n",
              "    </tr>\n",
              "    <tr>\n",
              "      <th>1</th>\n",
              "      <td>NaN</td>\n",
              "      <td>NaN</td>\n",
              "      <td>well done great way to redo classic it felt pa...</td>\n",
              "      <td>0.0</td>\n",
              "    </tr>\n",
              "    <tr>\n",
              "      <th>2</th>\n",
              "      <td>NaN</td>\n",
              "      <td>NaN</td>\n",
              "      <td>good movie just that original animated wa bett...</td>\n",
              "      <td>0.0</td>\n",
              "    </tr>\n",
              "    <tr>\n",
              "      <th>3</th>\n",
              "      <td>NaN</td>\n",
              "      <td>NaN</td>\n",
              "      <td>didn like beyoncé being nala bad acting didn l...</td>\n",
              "      <td>1.0</td>\n",
              "    </tr>\n",
              "    <tr>\n",
              "      <th>4</th>\n",
              "      <td>NaN</td>\n",
              "      <td>NaN</td>\n",
              "      <td>such beautiful story weve loved animated versi...</td>\n",
              "      <td>0.0</td>\n",
              "    </tr>\n",
              "  </tbody>\n",
              "</table>\n",
              "</div>"
            ],
            "text/plain": [
              "  Review  ...  sentiment\n",
              "0    NaN  ...        1.0\n",
              "1    NaN  ...        0.0\n",
              "2    NaN  ...        0.0\n",
              "3    NaN  ...        1.0\n",
              "4    NaN  ...        0.0\n",
              "\n",
              "[5 rows x 4 columns]"
            ]
          },
          "metadata": {
            "tags": []
          },
          "execution_count": 225
        }
      ]
    },
    {
      "cell_type": "code",
      "metadata": {
        "id": "qL9z5bLjxepp",
        "colab_type": "code",
        "colab": {}
      },
      "source": [
        ""
      ],
      "execution_count": 0,
      "outputs": []
    },
    {
      "cell_type": "code",
      "metadata": {
        "id": "EJrHDgcMO0L1",
        "colab_type": "code",
        "colab": {}
      },
      "source": [
        "# necessary imports\n",
        "from sklearn.feature_extraction.text import TfidfVectorizer\n",
        "\n",
        "\n",
        "tfidf_vectorizer = TfidfVectorizer(ngram_range=(1,4),max_features=5000)\n",
        "data_features = tfidf_vectorizer.fit_transform(df3['filt_sent'])\n"
      ],
      "execution_count": 0,
      "outputs": []
    },
    {
      "cell_type": "code",
      "metadata": {
        "id": "kLUe868tO0JA",
        "colab_type": "code",
        "colab": {}
      },
      "source": [
        "X_train, X_val, y_train, y_val = train_test_split(\n",
        "    data_features, df4.iloc[:,[1]], train_size = 0.75)\n",
        "#df4.drop(['filt_sent', 'sentiment'], axis = 1)\n"
      ],
      "execution_count": 0,
      "outputs": []
    },
    {
      "cell_type": "code",
      "metadata": {
        "id": "wOrEKsOQ-OcI",
        "colab_type": "code",
        "outputId": "0cee4846-4550-4ebd-8b33-a0ad03320589",
        "colab": {
          "base_uri": "https://localhost:8080/",
          "height": 34
        }
      },
      "source": [
        "print(\"class imbalance, {}\".format(y_train['sentiment'].value_counts()[1] / y_train.shape[0]))"
      ],
      "execution_count": 228,
      "outputs": [
        {
          "output_type": "stream",
          "text": [
            "class imbalance, 0.2768888888888889\n"
          ],
          "name": "stdout"
        }
      ]
    },
    {
      "cell_type": "code",
      "metadata": {
        "id": "H2oMvCZh--Cv",
        "colab_type": "code",
        "colab": {}
      },
      "source": [
        "from imblearn.over_sampling import SMOTE\n",
        "smt = SMOTE()\n",
        "X_train, y_train = smt.fit_sample(X_train, y_train)"
      ],
      "execution_count": 0,
      "outputs": []
    },
    {
      "cell_type": "code",
      "metadata": {
        "id": "tNuWK54o_Cfv",
        "colab_type": "code",
        "colab": {
          "base_uri": "https://localhost:8080/",
          "height": 85
        },
        "outputId": "7680b955-3e3c-4a31-fb40-ae856c2d142f"
      },
      "source": [
        "print(\"balance class\\n {}\".format(pd.Series(y_train).value_counts()))"
      ],
      "execution_count": 230,
      "outputs": [
        {
          "output_type": "stream",
          "text": [
            "balance class\n",
            " 1    1627\n",
            "0    1627\n",
            "dtype: int64\n"
          ],
          "name": "stdout"
        }
      ]
    },
    {
      "cell_type": "code",
      "metadata": {
        "id": "NYempiZl9wLa",
        "colab_type": "code",
        "outputId": "9fc8b66b-5e46-45d9-bcd7-4300daaf6a61",
        "colab": {
          "base_uri": "https://localhost:8080/",
          "height": 176
        }
      },
      "source": [
        "for c in [0.2, 0.5, 1, 3,4]:\n",
        "    \n",
        "    lr = LogisticRegression(C=c)\n",
        "    lr.fit(X_train, y_train)\n",
        "    print (\"f1_score for C=%s: %s\" \n",
        "           % (c, f1_score(y_val, lr.predict(X_val))))"
      ],
      "execution_count": 231,
      "outputs": [
        {
          "output_type": "stream",
          "text": [
            "f1_score for C=0.2: 0.710843373493976\n",
            "f1_score for C=0.5: 0.7261410788381742\n",
            "f1_score for C=1: 0.7272727272727274\n",
            "f1_score for C=3: 0.7352941176470588\n",
            "f1_score for C=4: 0.7249466950959488\n"
          ],
          "name": "stdout"
        },
        {
          "output_type": "stream",
          "text": [
            "/usr/local/lib/python3.6/dist-packages/sklearn/linear_model/logistic.py:432: FutureWarning: Default solver will be changed to 'lbfgs' in 0.22. Specify a solver to silence this warning.\n",
            "  FutureWarning)\n"
          ],
          "name": "stderr"
        }
      ]
    },
    {
      "cell_type": "code",
      "metadata": {
        "id": "8Xhz-tIBEWep",
        "colab_type": "code",
        "colab": {}
      },
      "source": [
        "X_train, y_train = smt.fit_sample(data_features, df4.iloc[:,[1]])"
      ],
      "execution_count": 0,
      "outputs": []
    },
    {
      "cell_type": "code",
      "metadata": {
        "id": "YsWspklfE9i4",
        "colab_type": "code",
        "colab": {
          "base_uri": "https://localhost:8080/",
          "height": 85
        },
        "outputId": "17e528d0-c46b-4436-df29-7c0552dca49c"
      },
      "source": [
        "print(\"balance class\\n {}\".format(pd.Series(y_train).value_counts()))"
      ],
      "execution_count": 233,
      "outputs": [
        {
          "output_type": "stream",
          "text": [
            "balance class\n",
            " 1    2173\n",
            "0    2173\n",
            "dtype: int64\n"
          ],
          "name": "stdout"
        }
      ]
    },
    {
      "cell_type": "code",
      "metadata": {
        "id": "ZaeaJqPe9ule",
        "colab_type": "code",
        "outputId": "2611a1cb-5305-45c2-f317-9e0e39e9d8c3",
        "colab": {
          "base_uri": "https://localhost:8080/",
          "height": 148
        }
      },
      "source": [
        "lr = LogisticRegression(C=3)\n",
        "lr.fit(X_train, y_train)\n",
        "data_features_LR = tfidf_vectorizer.fit_transform(test_df['Review'])\n",
        "lr.predict(data_features_LR)"
      ],
      "execution_count": 234,
      "outputs": [
        {
          "output_type": "stream",
          "text": [
            "/usr/local/lib/python3.6/dist-packages/sklearn/linear_model/logistic.py:432: FutureWarning: Default solver will be changed to 'lbfgs' in 0.22. Specify a solver to silence this warning.\n",
            "  FutureWarning)\n"
          ],
          "name": "stderr"
        },
        {
          "output_type": "execute_result",
          "data": {
            "text/plain": [
              "array([1, 0, 1, ..., 1, 0, 1])"
            ]
          },
          "metadata": {
            "tags": []
          },
          "execution_count": 234
        }
      ]
    },
    {
      "cell_type": "code",
      "metadata": {
        "id": "wQKTe9gyDXjC",
        "colab_type": "code",
        "colab": {
          "base_uri": "https://localhost:8080/",
          "height": 235
        },
        "outputId": "0b91e6dd-1db1-49a2-e695-6c67480d377c"
      },
      "source": [
        "sub_lr = test_df.loc[:, ['ReviewID']].join(pd.DataFrame(lr.predict(data_features_LR)))\n",
        "sub_lr.columns = ['ReviewID', 'sentiment']\n",
        "sub_lr = sub_lr.set_index('ReviewID')\n",
        "sub_lr.head()"
      ],
      "execution_count": 235,
      "outputs": [
        {
          "output_type": "execute_result",
          "data": {
            "text/html": [
              "<div>\n",
              "<style scoped>\n",
              "    .dataframe tbody tr th:only-of-type {\n",
              "        vertical-align: middle;\n",
              "    }\n",
              "\n",
              "    .dataframe tbody tr th {\n",
              "        vertical-align: top;\n",
              "    }\n",
              "\n",
              "    .dataframe thead th {\n",
              "        text-align: right;\n",
              "    }\n",
              "</style>\n",
              "<table border=\"1\" class=\"dataframe\">\n",
              "  <thead>\n",
              "    <tr style=\"text-align: right;\">\n",
              "      <th></th>\n",
              "      <th>sentiment</th>\n",
              "    </tr>\n",
              "    <tr>\n",
              "      <th>ReviewID</th>\n",
              "      <th></th>\n",
              "    </tr>\n",
              "  </thead>\n",
              "  <tbody>\n",
              "    <tr>\n",
              "      <th>92876</th>\n",
              "      <td>1</td>\n",
              "    </tr>\n",
              "    <tr>\n",
              "      <th>92877</th>\n",
              "      <td>0</td>\n",
              "    </tr>\n",
              "    <tr>\n",
              "      <th>92878</th>\n",
              "      <td>1</td>\n",
              "    </tr>\n",
              "    <tr>\n",
              "      <th>92879</th>\n",
              "      <td>1</td>\n",
              "    </tr>\n",
              "    <tr>\n",
              "      <th>92880</th>\n",
              "      <td>0</td>\n",
              "    </tr>\n",
              "  </tbody>\n",
              "</table>\n",
              "</div>"
            ],
            "text/plain": [
              "          sentiment\n",
              "ReviewID           \n",
              "92876             1\n",
              "92877             0\n",
              "92878             1\n",
              "92879             1\n",
              "92880             0"
            ]
          },
          "metadata": {
            "tags": []
          },
          "execution_count": 235
        }
      ]
    },
    {
      "cell_type": "code",
      "metadata": {
        "id": "GI8gEV1rJwJ4",
        "colab_type": "code",
        "colab": {}
      },
      "source": [
        "from google.colab import files\n",
        "sub_lr.to_csv('sub_lr.csv') \n",
        "files.download('sub_lr.csv')"
      ],
      "execution_count": 0,
      "outputs": []
    },
    {
      "cell_type": "code",
      "metadata": {
        "id": "6AvgfwDDJREA",
        "colab_type": "code",
        "colab": {}
      },
      "source": [
        ""
      ],
      "execution_count": 0,
      "outputs": []
    },
    {
      "cell_type": "code",
      "metadata": {
        "colab_type": "code",
        "id": "oE5NyPX3R5QO",
        "colab": {
          "base_uri": "https://localhost:8080/",
          "height": 102
        },
        "outputId": "a68b50ca-2744-483d-dd15-03d8e059061b"
      },
      "source": [
        "\n",
        "from sklearn.svm import LinearSVC\n",
        "\n",
        "for c in [1, 2, 3, 3.5, 5]:\n",
        "    \n",
        "    svm = LinearSVC(C=c)\n",
        "    svm.fit(X_train, y_train)\n",
        "    print (\"f1_score for C=%s: %s\" \n",
        "           % (c, f1_score(y_val, svm.predict(X_val))))"
      ],
      "execution_count": 237,
      "outputs": [
        {
          "output_type": "stream",
          "text": [
            "f1_score for C=1: 0.9805825242718447\n",
            "f1_score for C=2: 0.9926650366748165\n",
            "f1_score for C=3: 0.9951219512195122\n",
            "f1_score for C=3.5: 0.9951219512195122\n",
            "f1_score for C=5: 0.9951219512195122\n"
          ],
          "name": "stdout"
        }
      ]
    },
    {
      "cell_type": "code",
      "metadata": {
        "colab_type": "code",
        "id": "P1VG61YyR42g",
        "colab": {}
      },
      "source": [
        ""
      ],
      "execution_count": 0,
      "outputs": []
    },
    {
      "cell_type": "code",
      "metadata": {
        "id": "0AkTENpAuRPm",
        "colab_type": "code",
        "colab": {
          "base_uri": "https://localhost:8080/",
          "height": 34
        },
        "outputId": "938ddf5a-4a4b-4a09-9b61-2af0f4c7cfaf"
      },
      "source": [
        "svm_final = LinearSVC(C=2)\n",
        "svm_final.fit(data_features, df4.iloc[:,[1]])\n",
        "data_features_Lsvc = tfidf_vectorizer.fit_transform(test_df['Review'])\n",
        "svm_final.predict(data_features_Lsvc)"
      ],
      "execution_count": 238,
      "outputs": [
        {
          "output_type": "execute_result",
          "data": {
            "text/plain": [
              "array([0, 0, 0, ..., 0, 0, 1])"
            ]
          },
          "metadata": {
            "tags": []
          },
          "execution_count": 238
        }
      ]
    },
    {
      "cell_type": "code",
      "metadata": {
        "id": "7k1d14BhuRH1",
        "colab_type": "code",
        "colab": {
          "base_uri": "https://localhost:8080/",
          "height": 235
        },
        "outputId": "f2ab6c0f-7748-4ec6-914f-2ed0248d00be"
      },
      "source": [
        "sub_svm = test_df.loc[:, ['ReviewID']].join(pd.DataFrame(svm_final.predict(data_features_Lsvc)))\n",
        "sub_svm.columns = ['ReviewID', 'sentiment']\n",
        "sub_svm = sub_svm.set_index('ReviewID')\n",
        "sub_svm.head()"
      ],
      "execution_count": 239,
      "outputs": [
        {
          "output_type": "execute_result",
          "data": {
            "text/html": [
              "<div>\n",
              "<style scoped>\n",
              "    .dataframe tbody tr th:only-of-type {\n",
              "        vertical-align: middle;\n",
              "    }\n",
              "\n",
              "    .dataframe tbody tr th {\n",
              "        vertical-align: top;\n",
              "    }\n",
              "\n",
              "    .dataframe thead th {\n",
              "        text-align: right;\n",
              "    }\n",
              "</style>\n",
              "<table border=\"1\" class=\"dataframe\">\n",
              "  <thead>\n",
              "    <tr style=\"text-align: right;\">\n",
              "      <th></th>\n",
              "      <th>sentiment</th>\n",
              "    </tr>\n",
              "    <tr>\n",
              "      <th>ReviewID</th>\n",
              "      <th></th>\n",
              "    </tr>\n",
              "  </thead>\n",
              "  <tbody>\n",
              "    <tr>\n",
              "      <th>92876</th>\n",
              "      <td>0</td>\n",
              "    </tr>\n",
              "    <tr>\n",
              "      <th>92877</th>\n",
              "      <td>0</td>\n",
              "    </tr>\n",
              "    <tr>\n",
              "      <th>92878</th>\n",
              "      <td>0</td>\n",
              "    </tr>\n",
              "    <tr>\n",
              "      <th>92879</th>\n",
              "      <td>1</td>\n",
              "    </tr>\n",
              "    <tr>\n",
              "      <th>92880</th>\n",
              "      <td>0</td>\n",
              "    </tr>\n",
              "  </tbody>\n",
              "</table>\n",
              "</div>"
            ],
            "text/plain": [
              "          sentiment\n",
              "ReviewID           \n",
              "92876             0\n",
              "92877             0\n",
              "92878             0\n",
              "92879             1\n",
              "92880             0"
            ]
          },
          "metadata": {
            "tags": []
          },
          "execution_count": 239
        }
      ]
    },
    {
      "cell_type": "code",
      "metadata": {
        "id": "RDAOp543vy6d",
        "colab_type": "code",
        "colab": {}
      },
      "source": [
        "from google.colab import files\n",
        "sub_svm.to_csv('sub_svm.csv') \n",
        "files.download('sub_svm.csv')"
      ],
      "execution_count": 0,
      "outputs": []
    },
    {
      "cell_type": "code",
      "metadata": {
        "id": "nsZ0pljbAq8g",
        "colab_type": "code",
        "colab": {}
      },
      "source": [
        ""
      ],
      "execution_count": 0,
      "outputs": []
    },
    {
      "cell_type": "code",
      "metadata": {
        "id": "fm_1KCIDm6D4",
        "colab_type": "code",
        "colab": {
          "base_uri": "https://localhost:8080/",
          "height": 34
        },
        "outputId": "76b0e608-26b7-4ba9-97a8-a928187a2e0f"
      },
      "source": [
        "from sklearn.naive_bayes import BernoulliNB\n",
        "\n",
        "#Create a Gaussian Classifier\n",
        "model = BernoulliNB(0.01)\n",
        "\n",
        "# Train the model using the training sets\n",
        "model.fit(X_train,y_train)\n",
        "\n",
        "#Predict Output\n",
        "print (\"f1 score: %s\" \n",
        "       % f1_score(y_val, model.predict(X_val)))"
      ],
      "execution_count": 241,
      "outputs": [
        {
          "output_type": "stream",
          "text": [
            "f1 score: 0.6234567901234568\n"
          ],
          "name": "stdout"
        }
      ]
    },
    {
      "cell_type": "code",
      "metadata": {
        "id": "wQP6EM7YR-0-",
        "colab_type": "code",
        "colab": {}
      },
      "source": [
        ""
      ],
      "execution_count": 0,
      "outputs": []
    },
    {
      "cell_type": "code",
      "metadata": {
        "id": "ny9_GeaVapAw",
        "colab_type": "code",
        "colab": {}
      },
      "source": [
        "tfidf_vectorizer = TfidfVectorizer(ngram_range=(1,3),max_features=4000)\n",
        "data_features = tfidf_vectorizer.fit_transform(df3['filt_sent'])\n"
      ],
      "execution_count": 0,
      "outputs": []
    },
    {
      "cell_type": "code",
      "metadata": {
        "id": "IthEaUwyy1yZ",
        "colab_type": "code",
        "colab": {}
      },
      "source": [
        "X_train, X_val, y_train, y_val = train_test_split(\n",
        "    data_features, df4.iloc[:,[1]], train_size = 0.85)\n",
        "#df4.drop(['filt_sent', 'sentiment'], axis = 1)"
      ],
      "execution_count": 0,
      "outputs": []
    },
    {
      "cell_type": "code",
      "metadata": {
        "id": "64h-vIKWyRqC",
        "colab_type": "code",
        "colab": {}
      },
      "source": [
        "from imblearn.over_sampling import SMOTE\n",
        "smt = SMOTE()\n",
        "X_train, y_train = smt.fit_sample(X_train, y_train)"
      ],
      "execution_count": 0,
      "outputs": []
    },
    {
      "cell_type": "markdown",
      "metadata": {
        "id": "yeEEDhaIpbuS",
        "colab_type": "text"
      },
      "source": [
        "# Boosting"
      ]
    },
    {
      "cell_type": "code",
      "metadata": {
        "id": "_4UH9o8Y-KQY",
        "colab_type": "code",
        "colab": {}
      },
      "source": [
        "from sklearn.ensemble import GradientBoostingClassifier\n",
        "\n",
        "from sklearn.model_selection import GridSearchCV\n",
        "\n",
        "# Model in use\n",
        "GBM = GradientBoostingClassifier() \n",
        " \n",
        "# Use a grid over parameters of interest\n",
        "param_grid = { \n",
        "           \"n_estimators\" : [50, 100],\n",
        "           \"max_depth\" : [ 5, 7 ],\n",
        "           \"learning_rate\" : [0.5, 0.9]}\n",
        " \n",
        "CV_GBM = GridSearchCV(estimator=GBM, param_grid=param_grid, cv= 7)"
      ],
      "execution_count": 0,
      "outputs": []
    },
    {
      "cell_type": "code",
      "metadata": {
        "id": "8x3OP9_Z-J8P",
        "colab_type": "code",
        "colab": {}
      },
      "source": [
        "#%time CV_GBM.fit(X=X_train, y=y_train)"
      ],
      "execution_count": 0,
      "outputs": []
    },
    {
      "cell_type": "code",
      "metadata": {
        "id": "ic79Q34iyuet",
        "colab_type": "code",
        "colab": {}
      },
      "source": [
        "# Find best model\n",
        "#best_gbm_model = CV_GBM.best_estimator_\n",
        "#print (CV_GBM.best_score_, CV_GBM.best_params_)"
      ],
      "execution_count": 0,
      "outputs": []
    },
    {
      "cell_type": "code",
      "metadata": {
        "id": "WO0PnEZf12L9",
        "colab_type": "code",
        "colab": {}
      },
      "source": [
        "#y_pred_test=best_gbm_model.predict(X_val)\n"
      ],
      "execution_count": 0,
      "outputs": []
    },
    {
      "cell_type": "code",
      "metadata": {
        "id": "e5vSUIEj1zd1",
        "colab_type": "code",
        "colab": {}
      },
      "source": [
        "#print(f1_score(y_val,y_pred_test))"
      ],
      "execution_count": 0,
      "outputs": []
    },
    {
      "cell_type": "code",
      "metadata": {
        "id": "KeHmUC7c6cA7",
        "colab_type": "code",
        "colab": {}
      },
      "source": [
        "#data_features_boost = tfidf_vectorizer.fit_transform(test_df['Review'])"
      ],
      "execution_count": 0,
      "outputs": []
    },
    {
      "cell_type": "code",
      "metadata": {
        "id": "JugAdblGywp1",
        "colab_type": "code",
        "colab": {}
      },
      "source": [
        "#y_pred_test_final = best_gbm_model.predict(data_features_boost)"
      ],
      "execution_count": 0,
      "outputs": []
    },
    {
      "cell_type": "code",
      "metadata": {
        "id": "_wt-4QYJ5ohG",
        "colab_type": "code",
        "colab": {}
      },
      "source": [
        "#y_pred_test_final"
      ],
      "execution_count": 0,
      "outputs": []
    },
    {
      "cell_type": "code",
      "metadata": {
        "id": "TFHo43ZY5od2",
        "colab_type": "code",
        "colab": {}
      },
      "source": [
        "#sub_boost = test_df.loc[:, ['ReviewID']].join(pd.DataFrame(y_pred_test_final))\n",
        "#sub_boost.columns = ['ReviewID', 'sentiment']\n",
        "#sub_boost = sub_boost.set_index('ReviewID')\n",
        "#sub_boost.head()"
      ],
      "execution_count": 0,
      "outputs": []
    },
    {
      "cell_type": "code",
      "metadata": {
        "id": "skI7SYhz5oby",
        "colab_type": "code",
        "colab": {}
      },
      "source": [
        "#from google.colab import files\n",
        "#sub_boost.to_csv('sub_boost.csv') \n",
        "#files.download('sub_boost.csv')"
      ],
      "execution_count": 0,
      "outputs": []
    },
    {
      "cell_type": "markdown",
      "metadata": {
        "id": "3b3U3SBYVYpl",
        "colab_type": "text"
      },
      "source": [
        "# Preprocessing redone for model building"
      ]
    },
    {
      "cell_type": "code",
      "metadata": {
        "id": "jseErAY70xdh",
        "colab_type": "code",
        "colab": {}
      },
      "source": [
        "reviews_train = df2\n",
        "reviews_test = test_df"
      ],
      "execution_count": 0,
      "outputs": []
    },
    {
      "cell_type": "code",
      "metadata": {
        "id": "PQZUR_4q3Or5",
        "colab_type": "code",
        "colab": {
          "base_uri": "https://localhost:8080/",
          "height": 204
        },
        "outputId": "521e1add-9d71-407e-8bc8-3818425b34af"
      },
      "source": [
        "reviews_train.head()"
      ],
      "execution_count": 255,
      "outputs": [
        {
          "output_type": "execute_result",
          "data": {
            "text/html": [
              "<div>\n",
              "<style scoped>\n",
              "    .dataframe tbody tr th:only-of-type {\n",
              "        vertical-align: middle;\n",
              "    }\n",
              "\n",
              "    .dataframe tbody tr th {\n",
              "        vertical-align: top;\n",
              "    }\n",
              "\n",
              "    .dataframe thead th {\n",
              "        text-align: right;\n",
              "    }\n",
              "</style>\n",
              "<table border=\"1\" class=\"dataframe\">\n",
              "  <thead>\n",
              "    <tr style=\"text-align: right;\">\n",
              "      <th></th>\n",
              "      <th>Review</th>\n",
              "      <th>Rating</th>\n",
              "      <th>sentiment</th>\n",
              "      <th>filt_sent</th>\n",
              "    </tr>\n",
              "  </thead>\n",
              "  <tbody>\n",
              "    <tr>\n",
              "      <th>0</th>\n",
              "      <td>Didn't make me feel anything unlike the original.</td>\n",
              "      <td>STAR_3</td>\n",
              "      <td>1</td>\n",
              "      <td>didnt make me feel anything unlike original</td>\n",
              "    </tr>\n",
              "    <tr>\n",
              "      <th>1</th>\n",
              "      <td>Well done! A great way to redo a classic. It f...</td>\n",
              "      <td>STAR_5</td>\n",
              "      <td>0</td>\n",
              "      <td>well done great way to redo classic it felt pa...</td>\n",
              "    </tr>\n",
              "    <tr>\n",
              "      <th>2</th>\n",
              "      <td>Good movie.  Just that the original animated w...</td>\n",
              "      <td>STAR_4</td>\n",
              "      <td>0</td>\n",
              "      <td>good movie just that original animated wa bett...</td>\n",
              "    </tr>\n",
              "    <tr>\n",
              "      <th>3</th>\n",
              "      <td>I didn’t like Beyoncé being nala. Bad acting. ...</td>\n",
              "      <td>STAR_3</td>\n",
              "      <td>1</td>\n",
              "      <td>didn like beyoncé being nala bad acting didn l...</td>\n",
              "    </tr>\n",
              "    <tr>\n",
              "      <th>4</th>\n",
              "      <td>Such a beautiful story. We've loved the animat...</td>\n",
              "      <td>STAR_5</td>\n",
              "      <td>0</td>\n",
              "      <td>such beautiful story weve loved animated versi...</td>\n",
              "    </tr>\n",
              "  </tbody>\n",
              "</table>\n",
              "</div>"
            ],
            "text/plain": [
              "                                              Review  ...                                          filt_sent\n",
              "0  Didn't make me feel anything unlike the original.  ...        didnt make me feel anything unlike original\n",
              "1  Well done! A great way to redo a classic. It f...  ...  well done great way to redo classic it felt pa...\n",
              "2  Good movie.  Just that the original animated w...  ...  good movie just that original animated wa bett...\n",
              "3  I didn’t like Beyoncé being nala. Bad acting. ...  ...  didn like beyoncé being nala bad acting didn l...\n",
              "4  Such a beautiful story. We've loved the animat...  ...  such beautiful story weve loved animated versi...\n",
              "\n",
              "[5 rows x 4 columns]"
            ]
          },
          "metadata": {
            "tags": []
          },
          "execution_count": 255
        }
      ]
    },
    {
      "cell_type": "code",
      "metadata": {
        "id": "GpEJqpUa3Swa",
        "colab_type": "code",
        "colab": {
          "base_uri": "https://localhost:8080/",
          "height": 204
        },
        "outputId": "3a4c1660-7412-4679-c836-7292dd0651aa"
      },
      "source": [
        "reviews_test.head()"
      ],
      "execution_count": 256,
      "outputs": [
        {
          "output_type": "execute_result",
          "data": {
            "text/html": [
              "<div>\n",
              "<style scoped>\n",
              "    .dataframe tbody tr th:only-of-type {\n",
              "        vertical-align: middle;\n",
              "    }\n",
              "\n",
              "    .dataframe tbody tr th {\n",
              "        vertical-align: top;\n",
              "    }\n",
              "\n",
              "    .dataframe thead th {\n",
              "        text-align: right;\n",
              "    }\n",
              "</style>\n",
              "<table border=\"1\" class=\"dataframe\">\n",
              "  <thead>\n",
              "    <tr style=\"text-align: right;\">\n",
              "      <th></th>\n",
              "      <th>ReviewID</th>\n",
              "      <th>Review</th>\n",
              "      <th>filt_sent</th>\n",
              "    </tr>\n",
              "  </thead>\n",
              "  <tbody>\n",
              "    <tr>\n",
              "      <th>0</th>\n",
              "      <td>92876</td>\n",
              "      <td>wa good nothing like original but believe that...</td>\n",
              "      <td>wa good nothing like original but believe that...</td>\n",
              "    </tr>\n",
              "    <tr>\n",
              "      <th>1</th>\n",
              "      <td>92877</td>\n",
              "      <td>absolutely loved it wonderful rendition origin...</td>\n",
              "      <td>absolutely loved it wonderful rendition origin...</td>\n",
              "    </tr>\n",
              "    <tr>\n",
              "      <th>2</th>\n",
              "      <td>92878</td>\n",
              "      <td>love movie good job director appreciate all wo...</td>\n",
              "      <td>love movie good job director appreciate all wo...</td>\n",
              "    </tr>\n",
              "    <tr>\n",
              "      <th>3</th>\n",
              "      <td>92879</td>\n",
              "      <td>great movie same a original but cinematography...</td>\n",
              "      <td>great movie same a original but cinematography...</td>\n",
              "    </tr>\n",
              "    <tr>\n",
              "      <th>4</th>\n",
              "      <td>92880</td>\n",
              "      <td>realistic fantastic special effect</td>\n",
              "      <td>realistic fantastic special effect</td>\n",
              "    </tr>\n",
              "  </tbody>\n",
              "</table>\n",
              "</div>"
            ],
            "text/plain": [
              "   ReviewID  ...                                          filt_sent\n",
              "0     92876  ...  wa good nothing like original but believe that...\n",
              "1     92877  ...  absolutely loved it wonderful rendition origin...\n",
              "2     92878  ...  love movie good job director appreciate all wo...\n",
              "3     92879  ...  great movie same a original but cinematography...\n",
              "4     92880  ...                 realistic fantastic special effect\n",
              "\n",
              "[5 rows x 3 columns]"
            ]
          },
          "metadata": {
            "tags": []
          },
          "execution_count": 256
        }
      ]
    },
    {
      "cell_type": "markdown",
      "metadata": {
        "id": "hMaJGHNbVrYK",
        "colab_type": "text"
      },
      "source": [
        "# Model built from Basic preprocessing "
      ]
    },
    {
      "cell_type": "code",
      "metadata": {
        "id": "rGKv46Tx0mM3",
        "colab_type": "code",
        "colab": {}
      },
      "source": [
        "import re\n",
        "\n",
        "REPLACE_NO_SPACE = re.compile(\"[.;:!\\'?,\\\"()\\[\\]]\")\n",
        "REPLACE_WITH_SPACE = re.compile(\"(<br\\s*/><br\\s*/>)|(\\-)|(\\/)\")\n",
        "\n",
        "def preprocess_reviews(reviews):\n",
        "    reviews = [REPLACE_NO_SPACE.sub(\"\", line.lower()) for line in reviews]\n",
        "    reviews = [REPLACE_WITH_SPACE.sub(\" \", line) for line in reviews]\n",
        "    \n",
        "    return reviews\n",
        "\n",
        "reviews_train_clean = preprocess_reviews(reviews_train['Review'])\n",
        "reviews_test_clean = preprocess_reviews(reviews_test['Review'])"
      ],
      "execution_count": 0,
      "outputs": []
    },
    {
      "cell_type": "code",
      "metadata": {
        "id": "P2PXjAZ20mKq",
        "colab_type": "code",
        "colab": {}
      },
      "source": [
        "\n",
        "from sklearn.feature_extraction.text import CountVectorizer\n",
        "\n",
        "cv = CountVectorizer(binary=True)\n",
        "cv.fit(reviews_train_clean)\n",
        "X = cv.transform(reviews_train_clean)\n",
        "X_test = cv.transform(reviews_test_clean)"
      ],
      "execution_count": 0,
      "outputs": []
    },
    {
      "cell_type": "code",
      "metadata": {
        "id": "BbQcKYoo0mJD",
        "colab_type": "code",
        "colab": {
          "base_uri": "https://localhost:8080/",
          "height": 233
        },
        "outputId": "fc0584cb-de06-43c4-ec54-b4c5a1aa3563"
      },
      "source": [
        "from sklearn.linear_model import LogisticRegression\n",
        "\n",
        "from sklearn.model_selection import train_test_split\n",
        "from sklearn.metrics import accuracy_score, f1_score\n",
        "\n",
        "\n",
        "\n",
        "X_train, X_val, y_train, y_val = train_test_split(\n",
        "    X, reviews_train['sentiment'], train_size = 0.75\n",
        ")\n",
        "\n",
        "for c in [0.01, 0.05, 0.25, 0.5, 1, 1.5]:\n",
        "    \n",
        "    lr = LogisticRegression(C=c)\n",
        "    lr.fit(X_train, y_train)\n",
        "    print (\"f1_score for C=%s: %s\" \n",
        "           % (c, f1_score(y_val, lr.predict(X_val))))\n",
        "    \n"
      ],
      "execution_count": 259,
      "outputs": [
        {
          "output_type": "stream",
          "text": [
            "f1_score for C=0.01: 0.264\n",
            "f1_score for C=0.05: 0.4836601307189543\n",
            "f1_score for C=0.25: 0.6091954022988506\n",
            "f1_score for C=0.5: 0.6022099447513812\n",
            "f1_score for C=1: 0.6178861788617886\n",
            "f1_score for C=1.5: 0.6216216216216216\n"
          ],
          "name": "stdout"
        },
        {
          "output_type": "stream",
          "text": [
            "/usr/local/lib/python3.6/dist-packages/sklearn/linear_model/logistic.py:432: FutureWarning: Default solver will be changed to 'lbfgs' in 0.22. Specify a solver to silence this warning.\n",
            "  FutureWarning)\n"
          ],
          "name": "stderr"
        }
      ]
    },
    {
      "cell_type": "markdown",
      "metadata": {
        "id": "Ssu_qgXQV0Yy",
        "colab_type": "text"
      },
      "source": [
        "# Removing stopwords,"
      ]
    },
    {
      "cell_type": "code",
      "metadata": {
        "id": "tfqHiu6N0mFI",
        "colab_type": "code",
        "colab": {}
      },
      "source": [
        ""
      ],
      "execution_count": 0,
      "outputs": []
    },
    {
      "cell_type": "code",
      "metadata": {
        "id": "wkN487p70mDA",
        "colab_type": "code",
        "colab": {}
      },
      "source": [
        "from nltk.corpus import stopwords\n",
        "\n",
        "english_stop_words = stopwords.words('english')\n",
        "def remove_stop_words(corpus):\n",
        "    removed_stop_words = []\n",
        "    for review in corpus:\n",
        "        removed_stop_words.append(\n",
        "            ' '.join([word for word in review.split() \n",
        "                      if word not in english_stop_words])\n",
        "        )\n",
        "    return removed_stop_words\n",
        "\n",
        "no_stop_words = remove_stop_words(reviews_train_clean)"
      ],
      "execution_count": 0,
      "outputs": []
    },
    {
      "cell_type": "markdown",
      "metadata": {
        "id": "v_Ivo3ROV4w0",
        "colab_type": "text"
      },
      "source": [
        "# Stemming"
      ]
    },
    {
      "cell_type": "code",
      "metadata": {
        "id": "Y-W9h1jR0mBL",
        "colab_type": "code",
        "colab": {}
      },
      "source": [
        "def get_stemmed_text(corpus):\n",
        "    from nltk.stem.porter import PorterStemmer\n",
        "    stemmer = PorterStemmer()\n",
        "    return [' '.join([stemmer.stem(word) for word in review.split()]) for review in corpus]\n",
        "\n",
        "stemmed_reviews = get_stemmed_text(reviews_train_clean)"
      ],
      "execution_count": 0,
      "outputs": []
    },
    {
      "cell_type": "markdown",
      "metadata": {
        "id": "pQHx6OCLV7rF",
        "colab_type": "text"
      },
      "source": [
        "# Lemmatize"
      ]
    },
    {
      "cell_type": "code",
      "metadata": {
        "id": "3mgXujET0l-x",
        "colab_type": "code",
        "colab": {}
      },
      "source": [
        "def get_lemmatized_text(corpus):\n",
        "    from nltk.stem import WordNetLemmatizer\n",
        "    lemmatizer = WordNetLemmatizer()\n",
        "    return [' '.join([lemmatizer.lemmatize(word) for word in review.split()]) for review in corpus]\n",
        "\n",
        "lemmatized_reviews = get_lemmatized_text(reviews_train_clean)"
      ],
      "execution_count": 0,
      "outputs": []
    },
    {
      "cell_type": "markdown",
      "metadata": {
        "id": "8n3QURbhWDGB",
        "colab_type": "text"
      },
      "source": [
        "# Logistic with binary"
      ]
    },
    {
      "cell_type": "code",
      "metadata": {
        "id": "Hx1AyzWE0l9Y",
        "colab_type": "code",
        "colab": {
          "base_uri": "https://localhost:8080/",
          "height": 247
        },
        "outputId": "ad1af529-54f4-4828-c8f6-450416873ce3"
      },
      "source": [
        "from sklearn.feature_extraction.text import CountVectorizer\n",
        "from sklearn.linear_model import LogisticRegression\n",
        "from sklearn.metrics import accuracy_score\n",
        "from sklearn.model_selection import train_test_split\n",
        "\n",
        "ngram_vectorizer = CountVectorizer(binary=True, ngram_range=(1, 2))\n",
        "ngram_vectorizer.fit(reviews_train_clean)\n",
        "X = ngram_vectorizer.transform(reviews_train_clean)\n",
        "X_test = ngram_vectorizer.transform(reviews_test_clean)\n",
        "\n",
        "X_train, X_val, y_train, y_val = train_test_split(\n",
        "    X, reviews_train['sentiment'], train_size = 0.75\n",
        ")\n",
        "\n",
        "for c in [0.01, 0.05, 0.25, 0.5, 1, 1.5, 2, 3]:\n",
        "    \n",
        "    lr = LogisticRegression(C=c)\n",
        "    lr.fit(X_train, y_train)\n",
        "    print (\"f1_score C=%s: %s\" \n",
        "           % (c, f1_score(y_val, lr.predict(X_val))))"
      ],
      "execution_count": 263,
      "outputs": [
        {
          "output_type": "stream",
          "text": [
            "/usr/local/lib/python3.6/dist-packages/sklearn/linear_model/logistic.py:432: FutureWarning: Default solver will be changed to 'lbfgs' in 0.22. Specify a solver to silence this warning.\n",
            "  FutureWarning)\n"
          ],
          "name": "stderr"
        },
        {
          "output_type": "stream",
          "text": [
            "f1_score C=0.01: 0.3269961977186312\n",
            "f1_score C=0.05: 0.5209003215434085\n",
            "f1_score C=0.25: 0.5830903790087464\n",
            "f1_score C=0.5: 0.5959885386819485\n",
            "f1_score C=1: 0.6022727272727274\n",
            "f1_score C=1.5: 0.6197183098591549\n",
            "f1_score C=2: 0.6274509803921569\n",
            "f1_score C=3: 0.6408839779005525\n"
          ],
          "name": "stdout"
        }
      ]
    },
    {
      "cell_type": "code",
      "metadata": {
        "id": "AElLzhin-kbh",
        "colab_type": "code",
        "outputId": "80b4ad52-e462-4378-dbd5-b3bb78e4a6ae",
        "colab": {
          "base_uri": "https://localhost:8080/",
          "height": 148
        }
      },
      "source": [
        "final_ngram = LogisticRegression(C=1.5)\n",
        "final_ngram.fit(X, reviews_train['sentiment'])\n",
        "final_ngram.predict(X_test)"
      ],
      "execution_count": 264,
      "outputs": [
        {
          "output_type": "stream",
          "text": [
            "/usr/local/lib/python3.6/dist-packages/sklearn/linear_model/logistic.py:432: FutureWarning: Default solver will be changed to 'lbfgs' in 0.22. Specify a solver to silence this warning.\n",
            "  FutureWarning)\n"
          ],
          "name": "stderr"
        },
        {
          "output_type": "execute_result",
          "data": {
            "text/plain": [
              "array([0, 0, 0, ..., 1, 0, 1])"
            ]
          },
          "metadata": {
            "tags": []
          },
          "execution_count": 264
        }
      ]
    },
    {
      "cell_type": "markdown",
      "metadata": {
        "id": "gSaXBRHuWW78",
        "colab_type": "text"
      },
      "source": [
        "# Logistic with actual words"
      ]
    },
    {
      "cell_type": "code",
      "metadata": {
        "id": "okc8UWXH0l6_",
        "colab_type": "code",
        "colab": {
          "base_uri": "https://localhost:8080/",
          "height": 250
        },
        "outputId": "91686db7-7bc7-4909-efaa-c265542a5a9b"
      },
      "source": [
        "from sklearn.linear_model import LogisticRegression\n",
        "from sklearn.metrics import accuracy_score\n",
        "from sklearn.model_selection import train_test_split\n",
        "\n",
        "wc_vectorizer = CountVectorizer(binary=False)\n",
        "wc_vectorizer.fit(reviews_train_clean)\n",
        "X = wc_vectorizer.transform(reviews_train_clean)\n",
        "X_test = wc_vectorizer.transform(reviews_test_clean)\n",
        "\n",
        "X_train, X_val, y_train, y_val = train_test_split(\n",
        "    X, reviews_train['sentiment'], train_size = 0.75, \n",
        ")\n",
        "\n",
        "for c in [0.01, 0.05, 0.25, 0.5, 1, 1.5, 2]:\n",
        "    \n",
        "    lr = LogisticRegression(C=c)\n",
        "    lr.fit(X_train, y_train)\n",
        "    print (\"f1_score C=%s: %s\" \n",
        "           % (c, f1_score(y_val, lr.predict(X_val))))\n"
      ],
      "execution_count": 265,
      "outputs": [
        {
          "output_type": "stream",
          "text": [
            "f1_score C=0.01: 0.3802816901408451\n",
            "f1_score C=0.05: 0.5454545454545454\n",
            "f1_score C=0.25: 0.6368421052631579\n",
            "f1_score C=0.5: 0.6649616368286444\n",
            "f1_score C=1: 0.6699999999999999\n",
            "f1_score C=1.5: 0.6845965770171148\n",
            "f1_score C=2: 0.6828087167070217\n"
          ],
          "name": "stdout"
        },
        {
          "output_type": "stream",
          "text": [
            "/usr/local/lib/python3.6/dist-packages/sklearn/linear_model/logistic.py:432: FutureWarning: Default solver will be changed to 'lbfgs' in 0.22. Specify a solver to silence this warning.\n",
            "  FutureWarning)\n"
          ],
          "name": "stderr"
        }
      ]
    },
    {
      "cell_type": "code",
      "metadata": {
        "id": "skqFWDGu-Ih_",
        "colab_type": "code",
        "colab": {
          "base_uri": "https://localhost:8080/",
          "height": 151
        },
        "outputId": "37a57919-2890-4e40-da23-fcff6b5e4ef8"
      },
      "source": [
        "final_wc = LogisticRegression(C=1)\n",
        "final_wc.fit(X, reviews_train['sentiment'])\n",
        "result_wc = final_wc.predict(X_test)"
      ],
      "execution_count": 266,
      "outputs": [
        {
          "output_type": "stream",
          "text": [
            "/usr/local/lib/python3.6/dist-packages/sklearn/linear_model/logistic.py:432: FutureWarning: Default solver will be changed to 'lbfgs' in 0.22. Specify a solver to silence this warning.\n",
            "  FutureWarning)\n"
          ],
          "name": "stderr"
        }
      ]
    },
    {
      "cell_type": "code",
      "metadata": {
        "id": "9Y3x3XGp_RnK",
        "colab_type": "code",
        "colab": {
          "base_uri": "https://localhost:8080/",
          "height": 235
        },
        "outputId": "15d64799-879e-40b5-e84f-2660ed387f14"
      },
      "source": [
        "sub_wc = test_df.loc[:, ['ReviewID']].join(pd.DataFrame(result_wc))\n",
        "sub_wc.columns = ['ReviewID', 'sentiment']\n",
        "sub_wc = sub_wc.set_index('ReviewID')\n",
        "sub_wc.head()"
      ],
      "execution_count": 267,
      "outputs": [
        {
          "output_type": "execute_result",
          "data": {
            "text/html": [
              "<div>\n",
              "<style scoped>\n",
              "    .dataframe tbody tr th:only-of-type {\n",
              "        vertical-align: middle;\n",
              "    }\n",
              "\n",
              "    .dataframe tbody tr th {\n",
              "        vertical-align: top;\n",
              "    }\n",
              "\n",
              "    .dataframe thead th {\n",
              "        text-align: right;\n",
              "    }\n",
              "</style>\n",
              "<table border=\"1\" class=\"dataframe\">\n",
              "  <thead>\n",
              "    <tr style=\"text-align: right;\">\n",
              "      <th></th>\n",
              "      <th>sentiment</th>\n",
              "    </tr>\n",
              "    <tr>\n",
              "      <th>ReviewID</th>\n",
              "      <th></th>\n",
              "    </tr>\n",
              "  </thead>\n",
              "  <tbody>\n",
              "    <tr>\n",
              "      <th>92876</th>\n",
              "      <td>0</td>\n",
              "    </tr>\n",
              "    <tr>\n",
              "      <th>92877</th>\n",
              "      <td>0</td>\n",
              "    </tr>\n",
              "    <tr>\n",
              "      <th>92878</th>\n",
              "      <td>0</td>\n",
              "    </tr>\n",
              "    <tr>\n",
              "      <th>92879</th>\n",
              "      <td>0</td>\n",
              "    </tr>\n",
              "    <tr>\n",
              "      <th>92880</th>\n",
              "      <td>0</td>\n",
              "    </tr>\n",
              "  </tbody>\n",
              "</table>\n",
              "</div>"
            ],
            "text/plain": [
              "          sentiment\n",
              "ReviewID           \n",
              "92876             0\n",
              "92877             0\n",
              "92878             0\n",
              "92879             0\n",
              "92880             0"
            ]
          },
          "metadata": {
            "tags": []
          },
          "execution_count": 267
        }
      ]
    },
    {
      "cell_type": "code",
      "metadata": {
        "id": "Zlgc5Igv_C8q",
        "colab_type": "code",
        "colab": {}
      },
      "source": [
        "from google.colab import files\n",
        "sub_wc.to_csv('sub_wc.csv') \n",
        "files.download('sub_wc.csv')"
      ],
      "execution_count": 0,
      "outputs": []
    },
    {
      "cell_type": "code",
      "metadata": {
        "id": "jTtRlMZP_Mll",
        "colab_type": "code",
        "colab": {}
      },
      "source": [
        ""
      ],
      "execution_count": 0,
      "outputs": []
    },
    {
      "cell_type": "markdown",
      "metadata": {
        "id": "FM7252hvWj2I",
        "colab_type": "text"
      },
      "source": [
        "# Logistic with tfidf"
      ]
    },
    {
      "cell_type": "code",
      "metadata": {
        "id": "do1GY4-c0l5V",
        "colab_type": "code",
        "colab": {
          "base_uri": "https://localhost:8080/",
          "height": 210
        },
        "outputId": "fda88534-9016-46b2-d9e3-232208b21a01"
      },
      "source": [
        "from sklearn.feature_extraction.text import TfidfVectorizer\n",
        "from sklearn.linear_model import LogisticRegression\n",
        "from sklearn.metrics import accuracy_score, f1_score\n",
        "from sklearn.model_selection import train_test_split\n",
        "\n",
        "tfidf_vectorizer = TfidfVectorizer()\n",
        "tfidf_vectorizer.fit(reviews_train_clean)\n",
        "X = tfidf_vectorizer.transform(reviews_train_clean)\n",
        "X_test = tfidf_vectorizer.transform(reviews_test_clean)\n",
        "\n",
        "X_train, X_val, y_train, y_val = train_test_split(\n",
        "    X, reviews_train['sentiment'], train_size = 0.75\n",
        ")\n",
        "\n",
        "for c in [0.5, 1, 1.5, 2, 2.5, 2.7, 3]:\n",
        "    \n",
        "    lr = LogisticRegression(C=c)\n",
        "    lr.fit(X_train, y_train)\n",
        "    print (\"f1_score C=%s: %s\" \n",
        "           % (c, f1_score(y_val, lr.predict(X_val))))\n"
      ],
      "execution_count": 269,
      "outputs": [
        {
          "output_type": "stream",
          "text": [
            "f1_score C=0.5: 0.4705882352941176\n",
            "f1_score C=1: 0.5855263157894736\n",
            "f1_score C=1.5: 0.6182965299684542\n",
            "f1_score C=2: 0.6215384615384616\n",
            "f1_score C=2.5: 0.6322188449848024\n",
            "f1_score C=2.7: 0.6426426426426426\n",
            "f1_score C=3: 0.6447761194029851\n"
          ],
          "name": "stdout"
        },
        {
          "output_type": "stream",
          "text": [
            "/usr/local/lib/python3.6/dist-packages/sklearn/linear_model/logistic.py:432: FutureWarning: Default solver will be changed to 'lbfgs' in 0.22. Specify a solver to silence this warning.\n",
            "  FutureWarning)\n"
          ],
          "name": "stderr"
        }
      ]
    },
    {
      "cell_type": "code",
      "metadata": {
        "id": "yN25OUA80l3E",
        "colab_type": "code",
        "colab": {
          "base_uri": "https://localhost:8080/",
          "height": 131
        },
        "outputId": "fa60093e-022f-43dc-c267-41d568dfc71b"
      },
      "source": [
        "final_tfidf = LogisticRegression(C=2.5)\n",
        "final_tfidf.fit(X, reviews_train['sentiment'])\n",
        "result_tf = final_tfidf.predict(X_test)"
      ],
      "execution_count": 270,
      "outputs": [
        {
          "output_type": "stream",
          "text": [
            "/usr/local/lib/python3.6/dist-packages/sklearn/linear_model/logistic.py:432: FutureWarning: Default solver will be changed to 'lbfgs' in 0.22. Specify a solver to silence this warning.\n",
            "  FutureWarning)\n"
          ],
          "name": "stderr"
        }
      ]
    },
    {
      "cell_type": "code",
      "metadata": {
        "id": "oQ-OxLOi9yrB",
        "colab_type": "code",
        "colab": {
          "base_uri": "https://localhost:8080/",
          "height": 235
        },
        "outputId": "6a3d82ad-24ab-4d83-af7f-0cb55beecfee"
      },
      "source": [
        "sub_tf = test_df.loc[:, ['ReviewID']].join(pd.DataFrame(result_tf))\n",
        "sub_tf.columns = ['ReviewID', 'sentiment']\n",
        "sub_tf = sub_tf.set_index('ReviewID')\n",
        "sub_tf.head()"
      ],
      "execution_count": 271,
      "outputs": [
        {
          "output_type": "execute_result",
          "data": {
            "text/html": [
              "<div>\n",
              "<style scoped>\n",
              "    .dataframe tbody tr th:only-of-type {\n",
              "        vertical-align: middle;\n",
              "    }\n",
              "\n",
              "    .dataframe tbody tr th {\n",
              "        vertical-align: top;\n",
              "    }\n",
              "\n",
              "    .dataframe thead th {\n",
              "        text-align: right;\n",
              "    }\n",
              "</style>\n",
              "<table border=\"1\" class=\"dataframe\">\n",
              "  <thead>\n",
              "    <tr style=\"text-align: right;\">\n",
              "      <th></th>\n",
              "      <th>sentiment</th>\n",
              "    </tr>\n",
              "    <tr>\n",
              "      <th>ReviewID</th>\n",
              "      <th></th>\n",
              "    </tr>\n",
              "  </thead>\n",
              "  <tbody>\n",
              "    <tr>\n",
              "      <th>92876</th>\n",
              "      <td>0</td>\n",
              "    </tr>\n",
              "    <tr>\n",
              "      <th>92877</th>\n",
              "      <td>0</td>\n",
              "    </tr>\n",
              "    <tr>\n",
              "      <th>92878</th>\n",
              "      <td>0</td>\n",
              "    </tr>\n",
              "    <tr>\n",
              "      <th>92879</th>\n",
              "      <td>0</td>\n",
              "    </tr>\n",
              "    <tr>\n",
              "      <th>92880</th>\n",
              "      <td>0</td>\n",
              "    </tr>\n",
              "  </tbody>\n",
              "</table>\n",
              "</div>"
            ],
            "text/plain": [
              "          sentiment\n",
              "ReviewID           \n",
              "92876             0\n",
              "92877             0\n",
              "92878             0\n",
              "92879             0\n",
              "92880             0"
            ]
          },
          "metadata": {
            "tags": []
          },
          "execution_count": 271
        }
      ]
    },
    {
      "cell_type": "code",
      "metadata": {
        "id": "78gxxRzJEAt-",
        "colab_type": "code",
        "colab": {}
      },
      "source": [
        "from google.colab import files\n",
        "sub_tf.to_csv('sub_tf.csv') \n",
        "files.download('sub_tf.csv')"
      ],
      "execution_count": 0,
      "outputs": []
    },
    {
      "cell_type": "code",
      "metadata": {
        "id": "eBZwZEVvEAoW",
        "colab_type": "code",
        "colab": {
          "base_uri": "https://localhost:8080/",
          "height": 68
        },
        "outputId": "22146b44-2442-4e16-c3f0-f45508761594"
      },
      "source": [
        "sub_tf['sentiment'].value_counts()"
      ],
      "execution_count": 273,
      "outputs": [
        {
          "output_type": "execute_result",
          "data": {
            "text/plain": [
              "0    1022\n",
              "1     178\n",
              "Name: sentiment, dtype: int64"
            ]
          },
          "metadata": {
            "tags": []
          },
          "execution_count": 273
        }
      ]
    },
    {
      "cell_type": "code",
      "metadata": {
        "id": "WRY7MIfzEAk8",
        "colab_type": "code",
        "colab": {}
      },
      "source": [
        ""
      ],
      "execution_count": 0,
      "outputs": []
    },
    {
      "cell_type": "code",
      "metadata": {
        "id": "w5zKImTL0lzV",
        "colab_type": "code",
        "colab": {
          "base_uri": "https://localhost:8080/",
          "height": 136
        },
        "outputId": "42692eeb-93b3-414e-bf75-d2bb5578356b"
      },
      "source": [
        "from sklearn.feature_extraction.text import CountVectorizer\n",
        "from sklearn.svm import LinearSVC\n",
        "from sklearn.metrics import accuracy_score\n",
        "from sklearn.model_selection import train_test_split\n",
        "\n",
        "ngram_vectorizer = CountVectorizer(binary=True, ngram_range=(1, 2))\n",
        "ngram_vectorizer.fit(reviews_train_clean)\n",
        "X = ngram_vectorizer.transform(reviews_train_clean)\n",
        "X_test = ngram_vectorizer.transform(reviews_test_clean)\n",
        "\n",
        "X_train, X_val, y_train, y_val = train_test_split(\n",
        "    X, reviews_train['sentiment'], train_size = 0.75\n",
        ")\n",
        "\n",
        "for c in [0.01, 0.05, 0.25, 0.5, 1, 1.4, 2]:\n",
        "    \n",
        "    svm = LinearSVC(C=c)\n",
        "    svm.fit(X_train, y_train)\n",
        "    print (\"f1_score C=%s: %s\" \n",
        "           % (c, f1_score(y_val, svm.predict(X_val))))\n"
      ],
      "execution_count": 274,
      "outputs": [
        {
          "output_type": "stream",
          "text": [
            "f1_score C=0.01: 0.5963855421686747\n",
            "f1_score C=0.05: 0.6430517711171663\n",
            "f1_score C=0.25: 0.6789473684210526\n",
            "f1_score C=0.5: 0.6822916666666666\n",
            "f1_score C=1: 0.6805194805194805\n",
            "f1_score C=1.4: 0.6753246753246753\n",
            "f1_score C=2: 0.6735218508997429\n"
          ],
          "name": "stdout"
        }
      ]
    },
    {
      "cell_type": "markdown",
      "metadata": {
        "id": "FUlqrOhW75m6",
        "colab_type": "text"
      },
      "source": [
        "final_svm_ngram = LinearSVC(C=0.01)\n",
        "final_svm_ngram.fit(X, reviews_train['sentiment'])\n",
        "print (\"Final Accuracy: %s\" \n",
        "       % accuracy_score(target, final_svm_ngram.predict(X_test)))"
      ]
    },
    {
      "cell_type": "markdown",
      "metadata": {
        "id": "2cw3fnVrWvoM",
        "colab_type": "text"
      },
      "source": [
        "# ngram, SVM- linear"
      ]
    },
    {
      "cell_type": "code",
      "metadata": {
        "id": "t5gjcxpn76Xf",
        "colab_type": "code",
        "outputId": "3e989332-89d2-44ef-e057-254fccaffcd0",
        "colab": {
          "base_uri": "https://localhost:8080/",
          "height": 136
        }
      },
      "source": [
        "from sklearn.feature_extraction.text import CountVectorizer\n",
        "from sklearn.model_selection import train_test_split\n",
        "from sklearn.metrics import accuracy_score\n",
        "from sklearn.svm import LinearSVC\n",
        "\n",
        "\n",
        "stop_words = ['in', 'of', 'at', 'a', 'the']\n",
        "ngram_vectorizer = CountVectorizer(binary=True, ngram_range=(1, 3), stop_words=stop_words)\n",
        "ngram_vectorizer.fit(reviews_train_clean)\n",
        "X = ngram_vectorizer.transform(reviews_train_clean)\n",
        "X_test = ngram_vectorizer.transform(reviews_test_clean)\n",
        "\n",
        "X_train, X_val, y_train, y_val = train_test_split(\n",
        "    X, reviews_train['sentiment'], train_size = 0.75\n",
        ")\n",
        "\n",
        "for c in [0.001, 0.005, 0.01, 0.05, 0.1, 1.5, 2]:\n",
        "    \n",
        "    svm = LinearSVC(C=c)\n",
        "    svm.fit(X_train, y_train)\n",
        "    print (\"f1_score C=%s: %s\" \n",
        "           % (c, f1_score(y_val, svm.predict(X_val))))\n",
        "    \n",
        "    \n",
        "\n"
      ],
      "execution_count": 275,
      "outputs": [
        {
          "output_type": "stream",
          "text": [
            "f1_score C=0.001: 0.30952380952380953\n",
            "f1_score C=0.005: 0.5245901639344263\n",
            "f1_score C=0.01: 0.5431309904153354\n",
            "f1_score C=0.05: 0.6086956521739131\n",
            "f1_score C=0.1: 0.6131805157593124\n",
            "f1_score C=1.5: 0.6158192090395481\n",
            "f1_score C=2: 0.6175637393767707\n"
          ],
          "name": "stdout"
        }
      ]
    },
    {
      "cell_type": "code",
      "metadata": {
        "id": "p_6l-k1n8QqS",
        "colab_type": "code",
        "outputId": "5bbca3b9-d05f-47d6-bf02-68ddb14d2b86",
        "colab": {
          "base_uri": "https://localhost:8080/",
          "height": 34
        }
      },
      "source": [
        "final = LinearSVC(C=0.1)\n",
        "final.fit(X, reviews_train['sentiment'])\n",
        "final.predict(X_test)"
      ],
      "execution_count": 276,
      "outputs": [
        {
          "output_type": "execute_result",
          "data": {
            "text/plain": [
              "array([0, 0, 0, ..., 1, 0, 1])"
            ]
          },
          "metadata": {
            "tags": []
          },
          "execution_count": 276
        }
      ]
    },
    {
      "cell_type": "markdown",
      "metadata": {
        "id": "uhQdOp32aZj1",
        "colab_type": "text"
      },
      "source": [
        ""
      ]
    },
    {
      "cell_type": "markdown",
      "metadata": {
        "id": "lLH8FegYachA",
        "colab_type": "text"
      },
      "source": [
        "# Unsupervised using KMeans & spectral"
      ]
    },
    {
      "cell_type": "code",
      "metadata": {
        "id": "rMyOG6OQfKtb",
        "colab_type": "code",
        "colab": {
          "base_uri": "https://localhost:8080/",
          "height": 34
        },
        "outputId": "7b823f86-8d63-4861-c467-9506b24f0326"
      },
      "source": [
        "from sklearn.cluster import KMeans\n",
        "kmeans = KMeans(n_clusters=2, random_state=0).fit(X)\n",
        "kmeans.labels_"
      ],
      "execution_count": 279,
      "outputs": [
        {
          "output_type": "execute_result",
          "data": {
            "text/plain": [
              "array([1, 1, 1, ..., 1, 1, 1], dtype=int32)"
            ]
          },
          "metadata": {
            "tags": []
          },
          "execution_count": 279
        }
      ]
    },
    {
      "cell_type": "code",
      "metadata": {
        "id": "8bEMMt13fKrq",
        "colab_type": "code",
        "colab": {
          "base_uri": "https://localhost:8080/",
          "height": 34
        },
        "outputId": "54706731-003d-4aa8-eb79-a39d1439ea0c"
      },
      "source": [
        "f1_score(kmeans.labels_, reviews_train['sentiment'], pos_label = 1)"
      ],
      "execution_count": 280,
      "outputs": [
        {
          "output_type": "execute_result",
          "data": {
            "text/plain": [
              "0.369054441260745"
            ]
          },
          "metadata": {
            "tags": []
          },
          "execution_count": 280
        }
      ]
    },
    {
      "cell_type": "code",
      "metadata": {
        "id": "kHHasf6MfKns",
        "colab_type": "code",
        "colab": {}
      },
      "source": [
        "from sklearn.cluster import SpectralClustering\n",
        "import numpy as np"
      ],
      "execution_count": 0,
      "outputs": []
    },
    {
      "cell_type": "markdown",
      "metadata": {
        "id": "ceUreLKmh9hp",
        "colab_type": "text"
      },
      "source": [
        "# Spectral Clustering did wonders here"
      ]
    },
    {
      "cell_type": "code",
      "metadata": {
        "id": "Ahpr2U9rf521",
        "colab_type": "code",
        "colab": {}
      },
      "source": [
        "clustering = SpectralClustering(n_clusters=2,\\\n",
        "           assign_labels=\"discretize\",\\\n",
        "           random_state=0).fit_predict(X)"
      ],
      "execution_count": 0,
      "outputs": []
    },
    {
      "cell_type": "code",
      "metadata": {
        "id": "dK8uEgvYgGz3",
        "colab_type": "code",
        "colab": {
          "base_uri": "https://localhost:8080/",
          "height": 34
        },
        "outputId": "0327c290-b215-4d2e-ebbe-e229ab312607"
      },
      "source": [
        "f1_score(clustering, reviews_train['sentiment'], pos_label = 0)"
      ],
      "execution_count": 282,
      "outputs": [
        {
          "output_type": "execute_result",
          "data": {
            "text/plain": [
              "0.8284072249589491"
            ]
          },
          "metadata": {
            "tags": []
          },
          "execution_count": 282
        }
      ]
    },
    {
      "cell_type": "markdown",
      "metadata": {
        "id": "FH6T-LV5iF5w",
        "colab_type": "text"
      },
      "source": [
        "Reason is Logistic gave good results. This shows that structure of the individual clusters is highly non-convex or more generally when a measure of the center and spread of the cluster is not a suitable description of the complete cluster. For instance when clusters are nested circles on the 2D plane.\n",
        "\n"
      ]
    }
  ]
}